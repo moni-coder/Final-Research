{
 "cells": [
  {
   "cell_type": "code",
   "execution_count": 58,
   "metadata": {},
   "outputs": [],
   "source": [
    "import numpy as np # linear algebra\n",
    "import pandas as pd # data processing, CSV file I/O (e.g. pd.read_csv)\n",
    "\n",
    "from sklearn.feature_extraction.text import CountVectorizer\n",
    "from keras.preprocessing.text import Tokenizer\n",
    "from keras.preprocessing.sequence import pad_sequences\n",
    "from keras.models import Sequential\n",
    "from keras.layers import Dense, Embedding, LSTM, SpatialDropout1D,Dropout\n",
    "from sklearn.model_selection import train_test_split\n",
    "from keras.utils.np_utils import to_categorical\n",
    "import re\n"
   ]
  },
  {
   "cell_type": "markdown",
   "metadata": {},
   "source": [
    "# Load Dataset"
   ]
  },
  {
   "cell_type": "code",
   "execution_count": 59,
   "metadata": {},
   "outputs": [
    {
     "data": {
      "text/html": [
       "<div>\n",
       "<style scoped>\n",
       "    .dataframe tbody tr th:only-of-type {\n",
       "        vertical-align: middle;\n",
       "    }\n",
       "\n",
       "    .dataframe tbody tr th {\n",
       "        vertical-align: top;\n",
       "    }\n",
       "\n",
       "    .dataframe thead th {\n",
       "        text-align: right;\n",
       "    }\n",
       "</style>\n",
       "<table border=\"1\" class=\"dataframe\">\n",
       "  <thead>\n",
       "    <tr style=\"text-align: right;\">\n",
       "      <th></th>\n",
       "      <th>sentiment</th>\n",
       "      <th>text</th>\n",
       "    </tr>\n",
       "  </thead>\n",
       "  <tbody>\n",
       "    <tr>\n",
       "      <th>0</th>\n",
       "      <td>pos</td>\n",
       "      <td>I got the best service from them.</td>\n",
       "    </tr>\n",
       "    <tr>\n",
       "      <th>1</th>\n",
       "      <td>pos</td>\n",
       "      <td>Very impressive service for the customers. I l...</td>\n",
       "    </tr>\n",
       "    <tr>\n",
       "      <th>2</th>\n",
       "      <td>pos</td>\n",
       "      <td>Never had any issues with their delivery, alwa...</td>\n",
       "    </tr>\n",
       "    <tr>\n",
       "      <th>3</th>\n",
       "      <td>pos</td>\n",
       "      <td>Great Service Pre-Order option is great. Lovin...</td>\n",
       "    </tr>\n",
       "    <tr>\n",
       "      <th>4</th>\n",
       "      <td>pos</td>\n",
       "      <td>Delivery service at its best....</td>\n",
       "    </tr>\n",
       "    <tr>\n",
       "      <th>...</th>\n",
       "      <td>...</td>\n",
       "      <td>...</td>\n",
       "    </tr>\n",
       "    <tr>\n",
       "      <th>562</th>\n",
       "      <td>neg</td>\n",
       "      <td>Food is very very bad. He gives wrong food. Ve...</td>\n",
       "    </tr>\n",
       "    <tr>\n",
       "      <th>563</th>\n",
       "      <td>neg</td>\n",
       "      <td>I ordered food almost pos and pos/2 hour ago a...</td>\n",
       "    </tr>\n",
       "    <tr>\n",
       "      <th>564</th>\n",
       "      <td>neg</td>\n",
       "      <td>Order pos4neg tk and they deliver me 4neg tk b...</td>\n",
       "    </tr>\n",
       "    <tr>\n",
       "      <th>565</th>\n",
       "      <td>neg</td>\n",
       "      <td>Worst rider</td>\n",
       "    </tr>\n",
       "    <tr>\n",
       "      <th>566</th>\n",
       "      <td>neg</td>\n",
       "      <td>I was waiting a long time for food.. It was co...</td>\n",
       "    </tr>\n",
       "  </tbody>\n",
       "</table>\n",
       "<p>567 rows × 2 columns</p>\n",
       "</div>"
      ],
      "text/plain": [
       "    sentiment                                               text\n",
       "0         pos                  I got the best service from them.\n",
       "1         pos  Very impressive service for the customers. I l...\n",
       "2         pos  Never had any issues with their delivery, alwa...\n",
       "3         pos  Great Service Pre-Order option is great. Lovin...\n",
       "4         pos                   Delivery service at its best....\n",
       "..        ...                                                ...\n",
       "562       neg  Food is very very bad. He gives wrong food. Ve...\n",
       "563       neg  I ordered food almost pos and pos/2 hour ago a...\n",
       "564       neg  Order pos4neg tk and they deliver me 4neg tk b...\n",
       "565       neg                                        Worst rider\n",
       "566       neg  I was waiting a long time for food.. It was co...\n",
       "\n",
       "[567 rows x 2 columns]"
      ]
     },
     "execution_count": 59,
     "metadata": {},
     "output_type": "execute_result"
    }
   ],
   "source": [
    "column_names = ['sentiment', 'text']\n",
    "data = pd.read_csv(\"pos-neg-food.csv\",names = column_names)\n",
    "data"
   ]
  },
  {
   "cell_type": "markdown",
   "metadata": {},
   "source": [
    "# Remove Punctuation\n"
   ]
  },
  {
   "cell_type": "code",
   "execution_count": 60,
   "metadata": {},
   "outputs": [
    {
     "data": {
      "text/html": [
       "<div>\n",
       "<style scoped>\n",
       "    .dataframe tbody tr th:only-of-type {\n",
       "        vertical-align: middle;\n",
       "    }\n",
       "\n",
       "    .dataframe tbody tr th {\n",
       "        vertical-align: top;\n",
       "    }\n",
       "\n",
       "    .dataframe thead th {\n",
       "        text-align: right;\n",
       "    }\n",
       "</style>\n",
       "<table border=\"1\" class=\"dataframe\">\n",
       "  <thead>\n",
       "    <tr style=\"text-align: right;\">\n",
       "      <th></th>\n",
       "      <th>sentiment</th>\n",
       "      <th>text</th>\n",
       "      <th>msg_clean</th>\n",
       "    </tr>\n",
       "  </thead>\n",
       "  <tbody>\n",
       "    <tr>\n",
       "      <th>0</th>\n",
       "      <td>pos</td>\n",
       "      <td>I got the best service from them.</td>\n",
       "      <td>I got the best service from them</td>\n",
       "    </tr>\n",
       "    <tr>\n",
       "      <th>1</th>\n",
       "      <td>pos</td>\n",
       "      <td>Very impressive service for the customers. I l...</td>\n",
       "      <td>Very impressive service for the customers I lo...</td>\n",
       "    </tr>\n",
       "    <tr>\n",
       "      <th>2</th>\n",
       "      <td>pos</td>\n",
       "      <td>Never had any issues with their delivery, alwa...</td>\n",
       "      <td>Never had any issues with their delivery alway...</td>\n",
       "    </tr>\n",
       "    <tr>\n",
       "      <th>3</th>\n",
       "      <td>pos</td>\n",
       "      <td>Great Service Pre-Order option is great. Lovin...</td>\n",
       "      <td>Great Service PreOrder option is great Loving it</td>\n",
       "    </tr>\n",
       "    <tr>\n",
       "      <th>4</th>\n",
       "      <td>pos</td>\n",
       "      <td>Delivery service at its best....</td>\n",
       "      <td>Delivery service at its best</td>\n",
       "    </tr>\n",
       "    <tr>\n",
       "      <th>...</th>\n",
       "      <td>...</td>\n",
       "      <td>...</td>\n",
       "      <td>...</td>\n",
       "    </tr>\n",
       "    <tr>\n",
       "      <th>562</th>\n",
       "      <td>neg</td>\n",
       "      <td>Food is very very bad. He gives wrong food. Ve...</td>\n",
       "      <td>Food is very very bad He gives wrong food Very...</td>\n",
       "    </tr>\n",
       "    <tr>\n",
       "      <th>563</th>\n",
       "      <td>neg</td>\n",
       "      <td>I ordered food almost pos and pos/2 hour ago a...</td>\n",
       "      <td>I ordered food almost pos and pos2 hour ago an...</td>\n",
       "    </tr>\n",
       "    <tr>\n",
       "      <th>564</th>\n",
       "      <td>neg</td>\n",
       "      <td>Order pos4neg tk and they deliver me 4neg tk b...</td>\n",
       "      <td>Order pos4neg tk and they deliver me 4neg tk b...</td>\n",
       "    </tr>\n",
       "    <tr>\n",
       "      <th>565</th>\n",
       "      <td>neg</td>\n",
       "      <td>Worst rider</td>\n",
       "      <td>Worst rider</td>\n",
       "    </tr>\n",
       "    <tr>\n",
       "      <th>566</th>\n",
       "      <td>neg</td>\n",
       "      <td>I was waiting a long time for food.. It was co...</td>\n",
       "      <td>I was waiting a long time for food It was come...</td>\n",
       "    </tr>\n",
       "  </tbody>\n",
       "</table>\n",
       "<p>567 rows × 3 columns</p>\n",
       "</div>"
      ],
      "text/plain": [
       "    sentiment                                               text  \\\n",
       "0         pos                  I got the best service from them.   \n",
       "1         pos  Very impressive service for the customers. I l...   \n",
       "2         pos  Never had any issues with their delivery, alwa...   \n",
       "3         pos  Great Service Pre-Order option is great. Lovin...   \n",
       "4         pos                   Delivery service at its best....   \n",
       "..        ...                                                ...   \n",
       "562       neg  Food is very very bad. He gives wrong food. Ve...   \n",
       "563       neg  I ordered food almost pos and pos/2 hour ago a...   \n",
       "564       neg  Order pos4neg tk and they deliver me 4neg tk b...   \n",
       "565       neg                                        Worst rider   \n",
       "566       neg  I was waiting a long time for food.. It was co...   \n",
       "\n",
       "                                             msg_clean  \n",
       "0                     I got the best service from them  \n",
       "1    Very impressive service for the customers I lo...  \n",
       "2    Never had any issues with their delivery alway...  \n",
       "3    Great Service PreOrder option is great Loving it   \n",
       "4                         Delivery service at its best  \n",
       "..                                                 ...  \n",
       "562  Food is very very bad He gives wrong food Very...  \n",
       "563  I ordered food almost pos and pos2 hour ago an...  \n",
       "564  Order pos4neg tk and they deliver me 4neg tk b...  \n",
       "565                                        Worst rider  \n",
       "566  I was waiting a long time for food It was come...  \n",
       "\n",
       "[567 rows x 3 columns]"
      ]
     },
     "execution_count": 60,
     "metadata": {},
     "output_type": "execute_result"
    }
   ],
   "source": [
    "import string \n",
    "string.punctuation \n",
    "def remove_punctuation(txt):    \n",
    "    txt_nonpunct = \"\".join ([c for c in txt if c not in string.punctuation]) \n",
    "    return txt_nonpunct \n",
    "\n",
    "data['msg_clean'] = data['text'].apply(lambda x: remove_punctuation(x)) \n",
    "data"
   ]
  },
  {
   "cell_type": "markdown",
   "metadata": {},
   "source": [
    "# Tokenization"
   ]
  },
  {
   "cell_type": "code",
   "execution_count": 61,
   "metadata": {},
   "outputs": [
    {
     "data": {
      "text/html": [
       "<div>\n",
       "<style scoped>\n",
       "    .dataframe tbody tr th:only-of-type {\n",
       "        vertical-align: middle;\n",
       "    }\n",
       "\n",
       "    .dataframe tbody tr th {\n",
       "        vertical-align: top;\n",
       "    }\n",
       "\n",
       "    .dataframe thead th {\n",
       "        text-align: right;\n",
       "    }\n",
       "</style>\n",
       "<table border=\"1\" class=\"dataframe\">\n",
       "  <thead>\n",
       "    <tr style=\"text-align: right;\">\n",
       "      <th></th>\n",
       "      <th>sentiment</th>\n",
       "      <th>text</th>\n",
       "      <th>msg_clean</th>\n",
       "      <th>msg_clean_tokenized</th>\n",
       "    </tr>\n",
       "  </thead>\n",
       "  <tbody>\n",
       "    <tr>\n",
       "      <th>0</th>\n",
       "      <td>pos</td>\n",
       "      <td>I got the best service from them.</td>\n",
       "      <td>I got the best service from them</td>\n",
       "      <td>[i, got, the, best, service, from, them]</td>\n",
       "    </tr>\n",
       "    <tr>\n",
       "      <th>1</th>\n",
       "      <td>pos</td>\n",
       "      <td>Very impressive service for the customers. I l...</td>\n",
       "      <td>Very impressive service for the customers I lo...</td>\n",
       "      <td>[very, impressive, service, for, the, customer...</td>\n",
       "    </tr>\n",
       "    <tr>\n",
       "      <th>2</th>\n",
       "      <td>pos</td>\n",
       "      <td>Never had any issues with their delivery, alwa...</td>\n",
       "      <td>Never had any issues with their delivery alway...</td>\n",
       "      <td>[never, had, any, issues, with, their, deliver...</td>\n",
       "    </tr>\n",
       "    <tr>\n",
       "      <th>3</th>\n",
       "      <td>pos</td>\n",
       "      <td>Great Service Pre-Order option is great. Lovin...</td>\n",
       "      <td>Great Service PreOrder option is great Loving it</td>\n",
       "      <td>[great, service, preorder, option, is, great, ...</td>\n",
       "    </tr>\n",
       "    <tr>\n",
       "      <th>4</th>\n",
       "      <td>pos</td>\n",
       "      <td>Delivery service at its best....</td>\n",
       "      <td>Delivery service at its best</td>\n",
       "      <td>[delivery, service, at, its, best]</td>\n",
       "    </tr>\n",
       "    <tr>\n",
       "      <th>...</th>\n",
       "      <td>...</td>\n",
       "      <td>...</td>\n",
       "      <td>...</td>\n",
       "      <td>...</td>\n",
       "    </tr>\n",
       "    <tr>\n",
       "      <th>562</th>\n",
       "      <td>neg</td>\n",
       "      <td>Food is very very bad. He gives wrong food. Ve...</td>\n",
       "      <td>Food is very very bad He gives wrong food Very...</td>\n",
       "      <td>[food, is, very, very, bad, he, gives, wrong, ...</td>\n",
       "    </tr>\n",
       "    <tr>\n",
       "      <th>563</th>\n",
       "      <td>neg</td>\n",
       "      <td>I ordered food almost pos and pos/2 hour ago a...</td>\n",
       "      <td>I ordered food almost pos and pos2 hour ago an...</td>\n",
       "      <td>[i, ordered, food, almost, pos, and, pos2, hou...</td>\n",
       "    </tr>\n",
       "    <tr>\n",
       "      <th>564</th>\n",
       "      <td>neg</td>\n",
       "      <td>Order pos4neg tk and they deliver me 4neg tk b...</td>\n",
       "      <td>Order pos4neg tk and they deliver me 4neg tk b...</td>\n",
       "      <td>[order, pos4neg, tk, and, they, deliver, me, 4...</td>\n",
       "    </tr>\n",
       "    <tr>\n",
       "      <th>565</th>\n",
       "      <td>neg</td>\n",
       "      <td>Worst rider</td>\n",
       "      <td>Worst rider</td>\n",
       "      <td>[worst, rider]</td>\n",
       "    </tr>\n",
       "    <tr>\n",
       "      <th>566</th>\n",
       "      <td>neg</td>\n",
       "      <td>I was waiting a long time for food.. It was co...</td>\n",
       "      <td>I was waiting a long time for food It was come...</td>\n",
       "      <td>[i, was, waiting, a, long, time, for, food, it...</td>\n",
       "    </tr>\n",
       "  </tbody>\n",
       "</table>\n",
       "<p>567 rows × 4 columns</p>\n",
       "</div>"
      ],
      "text/plain": [
       "    sentiment                                               text  \\\n",
       "0         pos                  I got the best service from them.   \n",
       "1         pos  Very impressive service for the customers. I l...   \n",
       "2         pos  Never had any issues with their delivery, alwa...   \n",
       "3         pos  Great Service Pre-Order option is great. Lovin...   \n",
       "4         pos                   Delivery service at its best....   \n",
       "..        ...                                                ...   \n",
       "562       neg  Food is very very bad. He gives wrong food. Ve...   \n",
       "563       neg  I ordered food almost pos and pos/2 hour ago a...   \n",
       "564       neg  Order pos4neg tk and they deliver me 4neg tk b...   \n",
       "565       neg                                        Worst rider   \n",
       "566       neg  I was waiting a long time for food.. It was co...   \n",
       "\n",
       "                                             msg_clean  \\\n",
       "0                     I got the best service from them   \n",
       "1    Very impressive service for the customers I lo...   \n",
       "2    Never had any issues with their delivery alway...   \n",
       "3    Great Service PreOrder option is great Loving it    \n",
       "4                         Delivery service at its best   \n",
       "..                                                 ...   \n",
       "562  Food is very very bad He gives wrong food Very...   \n",
       "563  I ordered food almost pos and pos2 hour ago an...   \n",
       "564  Order pos4neg tk and they deliver me 4neg tk b...   \n",
       "565                                        Worst rider   \n",
       "566  I was waiting a long time for food It was come...   \n",
       "\n",
       "                                   msg_clean_tokenized  \n",
       "0             [i, got, the, best, service, from, them]  \n",
       "1    [very, impressive, service, for, the, customer...  \n",
       "2    [never, had, any, issues, with, their, deliver...  \n",
       "3    [great, service, preorder, option, is, great, ...  \n",
       "4                   [delivery, service, at, its, best]  \n",
       "..                                                 ...  \n",
       "562  [food, is, very, very, bad, he, gives, wrong, ...  \n",
       "563  [i, ordered, food, almost, pos, and, pos2, hou...  \n",
       "564  [order, pos4neg, tk, and, they, deliver, me, 4...  \n",
       "565                                     [worst, rider]  \n",
       "566  [i, was, waiting, a, long, time, for, food, it...  \n",
       "\n",
       "[567 rows x 4 columns]"
      ]
     },
     "execution_count": 61,
     "metadata": {},
     "output_type": "execute_result"
    }
   ],
   "source": [
    "from nltk.tokenize import word_tokenize\n",
    "def tokenize(txt):    \n",
    "    tokens = word_tokenize(txt)\n",
    "    return tokens \n",
    "data['msg_clean_tokenized'] = data['msg_clean'].apply(lambda x: tokenize(x.lower())) \n",
    "data"
   ]
  },
  {
   "cell_type": "markdown",
   "metadata": {},
   "source": [
    "# Remove stop words"
   ]
  },
  {
   "cell_type": "code",
   "execution_count": 62,
   "metadata": {},
   "outputs": [
    {
     "data": {
      "text/plain": [
       "['i', 'me', 'my', 'myself', 'we', 'our', 'ours', 'ourselves', 'you', \"you're\"]"
      ]
     },
     "execution_count": 62,
     "metadata": {},
     "output_type": "execute_result"
    }
   ],
   "source": [
    "import nltk \n",
    "stopwords = nltk.corpus.stopwords.words('english') \n",
    "stopwords[0:10]"
   ]
  },
  {
   "cell_type": "code",
   "execution_count": 63,
   "metadata": {},
   "outputs": [
    {
     "data": {
      "text/html": [
       "<div>\n",
       "<style scoped>\n",
       "    .dataframe tbody tr th:only-of-type {\n",
       "        vertical-align: middle;\n",
       "    }\n",
       "\n",
       "    .dataframe tbody tr th {\n",
       "        vertical-align: top;\n",
       "    }\n",
       "\n",
       "    .dataframe thead th {\n",
       "        text-align: right;\n",
       "    }\n",
       "</style>\n",
       "<table border=\"1\" class=\"dataframe\">\n",
       "  <thead>\n",
       "    <tr style=\"text-align: right;\">\n",
       "      <th></th>\n",
       "      <th>sentiment</th>\n",
       "      <th>text</th>\n",
       "      <th>msg_clean</th>\n",
       "      <th>msg_clean_tokenized</th>\n",
       "      <th>msg_no_sw</th>\n",
       "    </tr>\n",
       "  </thead>\n",
       "  <tbody>\n",
       "    <tr>\n",
       "      <th>0</th>\n",
       "      <td>pos</td>\n",
       "      <td>I got the best service from them.</td>\n",
       "      <td>I got the best service from them</td>\n",
       "      <td>[i, got, the, best, service, from, them]</td>\n",
       "      <td>[got, best, service]</td>\n",
       "    </tr>\n",
       "    <tr>\n",
       "      <th>1</th>\n",
       "      <td>pos</td>\n",
       "      <td>Very impressive service for the customers. I l...</td>\n",
       "      <td>Very impressive service for the customers I lo...</td>\n",
       "      <td>[very, impressive, service, for, the, customer...</td>\n",
       "      <td>[impressive, service, customers, love, comes, ...</td>\n",
       "    </tr>\n",
       "    <tr>\n",
       "      <th>2</th>\n",
       "      <td>pos</td>\n",
       "      <td>Never had any issues with their delivery, alwa...</td>\n",
       "      <td>Never had any issues with their delivery alway...</td>\n",
       "      <td>[never, had, any, issues, with, their, deliver...</td>\n",
       "      <td>[never, issues, delivery, always, got, food, t...</td>\n",
       "    </tr>\n",
       "    <tr>\n",
       "      <th>3</th>\n",
       "      <td>pos</td>\n",
       "      <td>Great Service Pre-Order option is great. Lovin...</td>\n",
       "      <td>Great Service PreOrder option is great Loving it</td>\n",
       "      <td>[great, service, preorder, option, is, great, ...</td>\n",
       "      <td>[great, service, preorder, option, great, loving]</td>\n",
       "    </tr>\n",
       "    <tr>\n",
       "      <th>4</th>\n",
       "      <td>pos</td>\n",
       "      <td>Delivery service at its best....</td>\n",
       "      <td>Delivery service at its best</td>\n",
       "      <td>[delivery, service, at, its, best]</td>\n",
       "      <td>[delivery, service, best]</td>\n",
       "    </tr>\n",
       "    <tr>\n",
       "      <th>...</th>\n",
       "      <td>...</td>\n",
       "      <td>...</td>\n",
       "      <td>...</td>\n",
       "      <td>...</td>\n",
       "      <td>...</td>\n",
       "    </tr>\n",
       "    <tr>\n",
       "      <th>562</th>\n",
       "      <td>neg</td>\n",
       "      <td>Food is very very bad. He gives wrong food. Ve...</td>\n",
       "      <td>Food is very very bad He gives wrong food Very...</td>\n",
       "      <td>[food, is, very, very, bad, he, gives, wrong, ...</td>\n",
       "      <td>[food, bad, gives, wrong, food, bad]</td>\n",
       "    </tr>\n",
       "    <tr>\n",
       "      <th>563</th>\n",
       "      <td>neg</td>\n",
       "      <td>I ordered food almost pos and pos/2 hour ago a...</td>\n",
       "      <td>I ordered food almost pos and pos2 hour ago an...</td>\n",
       "      <td>[i, ordered, food, almost, pos, and, pos2, hou...</td>\n",
       "      <td>[ordered, food, almost, pos, pos2, hour, ago, ...</td>\n",
       "    </tr>\n",
       "    <tr>\n",
       "      <th>564</th>\n",
       "      <td>neg</td>\n",
       "      <td>Order pos4neg tk and they deliver me 4neg tk b...</td>\n",
       "      <td>Order pos4neg tk and they deliver me 4neg tk b...</td>\n",
       "      <td>[order, pos4neg, tk, and, they, deliver, me, 4...</td>\n",
       "      <td>[order, pos4neg, tk, deliver, 4neg, tk, burger]</td>\n",
       "    </tr>\n",
       "    <tr>\n",
       "      <th>565</th>\n",
       "      <td>neg</td>\n",
       "      <td>Worst rider</td>\n",
       "      <td>Worst rider</td>\n",
       "      <td>[worst, rider]</td>\n",
       "      <td>[worst, rider]</td>\n",
       "    </tr>\n",
       "    <tr>\n",
       "      <th>566</th>\n",
       "      <td>neg</td>\n",
       "      <td>I was waiting a long time for food.. It was co...</td>\n",
       "      <td>I was waiting a long time for food It was come...</td>\n",
       "      <td>[i, was, waiting, a, long, time, for, food, it...</td>\n",
       "      <td>[waiting, long, time, food, come, long, time]</td>\n",
       "    </tr>\n",
       "  </tbody>\n",
       "</table>\n",
       "<p>567 rows × 5 columns</p>\n",
       "</div>"
      ],
      "text/plain": [
       "    sentiment                                               text  \\\n",
       "0         pos                  I got the best service from them.   \n",
       "1         pos  Very impressive service for the customers. I l...   \n",
       "2         pos  Never had any issues with their delivery, alwa...   \n",
       "3         pos  Great Service Pre-Order option is great. Lovin...   \n",
       "4         pos                   Delivery service at its best....   \n",
       "..        ...                                                ...   \n",
       "562       neg  Food is very very bad. He gives wrong food. Ve...   \n",
       "563       neg  I ordered food almost pos and pos/2 hour ago a...   \n",
       "564       neg  Order pos4neg tk and they deliver me 4neg tk b...   \n",
       "565       neg                                        Worst rider   \n",
       "566       neg  I was waiting a long time for food.. It was co...   \n",
       "\n",
       "                                             msg_clean  \\\n",
       "0                     I got the best service from them   \n",
       "1    Very impressive service for the customers I lo...   \n",
       "2    Never had any issues with their delivery alway...   \n",
       "3    Great Service PreOrder option is great Loving it    \n",
       "4                         Delivery service at its best   \n",
       "..                                                 ...   \n",
       "562  Food is very very bad He gives wrong food Very...   \n",
       "563  I ordered food almost pos and pos2 hour ago an...   \n",
       "564  Order pos4neg tk and they deliver me 4neg tk b...   \n",
       "565                                        Worst rider   \n",
       "566  I was waiting a long time for food It was come...   \n",
       "\n",
       "                                   msg_clean_tokenized  \\\n",
       "0             [i, got, the, best, service, from, them]   \n",
       "1    [very, impressive, service, for, the, customer...   \n",
       "2    [never, had, any, issues, with, their, deliver...   \n",
       "3    [great, service, preorder, option, is, great, ...   \n",
       "4                   [delivery, service, at, its, best]   \n",
       "..                                                 ...   \n",
       "562  [food, is, very, very, bad, he, gives, wrong, ...   \n",
       "563  [i, ordered, food, almost, pos, and, pos2, hou...   \n",
       "564  [order, pos4neg, tk, and, they, deliver, me, 4...   \n",
       "565                                     [worst, rider]   \n",
       "566  [i, was, waiting, a, long, time, for, food, it...   \n",
       "\n",
       "                                             msg_no_sw  \n",
       "0                                 [got, best, service]  \n",
       "1    [impressive, service, customers, love, comes, ...  \n",
       "2    [never, issues, delivery, always, got, food, t...  \n",
       "3    [great, service, preorder, option, great, loving]  \n",
       "4                            [delivery, service, best]  \n",
       "..                                                 ...  \n",
       "562               [food, bad, gives, wrong, food, bad]  \n",
       "563  [ordered, food, almost, pos, pos2, hour, ago, ...  \n",
       "564    [order, pos4neg, tk, deliver, 4neg, tk, burger]  \n",
       "565                                     [worst, rider]  \n",
       "566      [waiting, long, time, food, come, long, time]  \n",
       "\n",
       "[567 rows x 5 columns]"
      ]
     },
     "execution_count": 63,
     "metadata": {},
     "output_type": "execute_result"
    }
   ],
   "source": [
    "def remove_stopwords(txt_tokenized):   \n",
    "    txt_clean = [word for word in txt_tokenized if word not in stopwords] \n",
    "    return txt_clean \n",
    "data['msg_no_sw'] = data['msg_clean_tokenized'].apply(lambda x: remove_stopwords(x)) \n",
    "data"
   ]
  },
  {
   "cell_type": "markdown",
   "metadata": {},
   "source": [
    "# Lemmatization"
   ]
  },
  {
   "cell_type": "code",
   "execution_count": 64,
   "metadata": {},
   "outputs": [
    {
     "data": {
      "text/plain": [
       "['__class__',\n",
       " '__delattr__',\n",
       " '__dict__',\n",
       " '__dir__',\n",
       " '__doc__',\n",
       " '__eq__',\n",
       " '__format__',\n",
       " '__ge__',\n",
       " '__getattribute__',\n",
       " '__gt__',\n",
       " '__hash__',\n",
       " '__init__',\n",
       " '__init_subclass__',\n",
       " '__le__',\n",
       " '__lt__',\n",
       " '__module__',\n",
       " '__ne__',\n",
       " '__new__',\n",
       " '__reduce__',\n",
       " '__reduce_ex__',\n",
       " '__repr__',\n",
       " '__setattr__',\n",
       " '__sizeof__',\n",
       " '__str__',\n",
       " '__subclasshook__',\n",
       " '__weakref__',\n",
       " 'lemmatize']"
      ]
     },
     "execution_count": 64,
     "metadata": {},
     "output_type": "execute_result"
    }
   ],
   "source": [
    "import nltk \n",
    "wn = nltk.WordNetLemmatizer()\n",
    "ps = nltk.PorterStemmer()\n",
    "\n",
    "dir(wn)"
   ]
  },
  {
   "cell_type": "code",
   "execution_count": 65,
   "metadata": {},
   "outputs": [
    {
     "data": {
      "text/html": [
       "<div>\n",
       "<style scoped>\n",
       "    .dataframe tbody tr th:only-of-type {\n",
       "        vertical-align: middle;\n",
       "    }\n",
       "\n",
       "    .dataframe tbody tr th {\n",
       "        vertical-align: top;\n",
       "    }\n",
       "\n",
       "    .dataframe thead th {\n",
       "        text-align: right;\n",
       "    }\n",
       "</style>\n",
       "<table border=\"1\" class=\"dataframe\">\n",
       "  <thead>\n",
       "    <tr style=\"text-align: right;\">\n",
       "      <th></th>\n",
       "      <th>sentiment</th>\n",
       "      <th>text</th>\n",
       "      <th>msg_clean</th>\n",
       "      <th>msg_clean_tokenized</th>\n",
       "      <th>msg_no_sw</th>\n",
       "      <th>Review</th>\n",
       "    </tr>\n",
       "  </thead>\n",
       "  <tbody>\n",
       "    <tr>\n",
       "      <th>0</th>\n",
       "      <td>pos</td>\n",
       "      <td>I got the best service from them.</td>\n",
       "      <td>I got the best service from them</td>\n",
       "      <td>[i, got, the, best, service, from, them]</td>\n",
       "      <td>[got, best, service]</td>\n",
       "      <td>got best service</td>\n",
       "    </tr>\n",
       "    <tr>\n",
       "      <th>1</th>\n",
       "      <td>pos</td>\n",
       "      <td>Very impressive service for the customers. I l...</td>\n",
       "      <td>Very impressive service for the customers I lo...</td>\n",
       "      <td>[very, impressive, service, for, the, customer...</td>\n",
       "      <td>[impressive, service, customers, love, comes, ...</td>\n",
       "      <td>impressive service customer love come call con...</td>\n",
       "    </tr>\n",
       "    <tr>\n",
       "      <th>2</th>\n",
       "      <td>pos</td>\n",
       "      <td>Never had any issues with their delivery, alwa...</td>\n",
       "      <td>Never had any issues with their delivery alway...</td>\n",
       "      <td>[never, had, any, issues, with, their, deliver...</td>\n",
       "      <td>[never, issues, delivery, always, got, food, t...</td>\n",
       "      <td>never issue delivery always got food time prob...</td>\n",
       "    </tr>\n",
       "    <tr>\n",
       "      <th>3</th>\n",
       "      <td>pos</td>\n",
       "      <td>Great Service Pre-Order option is great. Lovin...</td>\n",
       "      <td>Great Service PreOrder option is great Loving it</td>\n",
       "      <td>[great, service, preorder, option, is, great, ...</td>\n",
       "      <td>[great, service, preorder, option, great, loving]</td>\n",
       "      <td>great service preorder option great loving</td>\n",
       "    </tr>\n",
       "    <tr>\n",
       "      <th>4</th>\n",
       "      <td>pos</td>\n",
       "      <td>Delivery service at its best....</td>\n",
       "      <td>Delivery service at its best</td>\n",
       "      <td>[delivery, service, at, its, best]</td>\n",
       "      <td>[delivery, service, best]</td>\n",
       "      <td>delivery service best</td>\n",
       "    </tr>\n",
       "    <tr>\n",
       "      <th>...</th>\n",
       "      <td>...</td>\n",
       "      <td>...</td>\n",
       "      <td>...</td>\n",
       "      <td>...</td>\n",
       "      <td>...</td>\n",
       "      <td>...</td>\n",
       "    </tr>\n",
       "    <tr>\n",
       "      <th>562</th>\n",
       "      <td>neg</td>\n",
       "      <td>Food is very very bad. He gives wrong food. Ve...</td>\n",
       "      <td>Food is very very bad He gives wrong food Very...</td>\n",
       "      <td>[food, is, very, very, bad, he, gives, wrong, ...</td>\n",
       "      <td>[food, bad, gives, wrong, food, bad]</td>\n",
       "      <td>food bad give wrong food bad</td>\n",
       "    </tr>\n",
       "    <tr>\n",
       "      <th>563</th>\n",
       "      <td>neg</td>\n",
       "      <td>I ordered food almost pos and pos/2 hour ago a...</td>\n",
       "      <td>I ordered food almost pos and pos2 hour ago an...</td>\n",
       "      <td>[i, ordered, food, almost, pos, and, pos2, hou...</td>\n",
       "      <td>[ordered, food, almost, pos, pos2, hour, ago, ...</td>\n",
       "      <td>ordered food almost po pos2 hour ago still rec...</td>\n",
       "    </tr>\n",
       "    <tr>\n",
       "      <th>564</th>\n",
       "      <td>neg</td>\n",
       "      <td>Order pos4neg tk and they deliver me 4neg tk b...</td>\n",
       "      <td>Order pos4neg tk and they deliver me 4neg tk b...</td>\n",
       "      <td>[order, pos4neg, tk, and, they, deliver, me, 4...</td>\n",
       "      <td>[order, pos4neg, tk, deliver, 4neg, tk, burger]</td>\n",
       "      <td>order pos4neg tk deliver 4neg tk burger</td>\n",
       "    </tr>\n",
       "    <tr>\n",
       "      <th>565</th>\n",
       "      <td>neg</td>\n",
       "      <td>Worst rider</td>\n",
       "      <td>Worst rider</td>\n",
       "      <td>[worst, rider]</td>\n",
       "      <td>[worst, rider]</td>\n",
       "      <td>worst rider</td>\n",
       "    </tr>\n",
       "    <tr>\n",
       "      <th>566</th>\n",
       "      <td>neg</td>\n",
       "      <td>I was waiting a long time for food.. It was co...</td>\n",
       "      <td>I was waiting a long time for food It was come...</td>\n",
       "      <td>[i, was, waiting, a, long, time, for, food, it...</td>\n",
       "      <td>[waiting, long, time, food, come, long, time]</td>\n",
       "      <td>waiting long time food come long time</td>\n",
       "    </tr>\n",
       "  </tbody>\n",
       "</table>\n",
       "<p>567 rows × 6 columns</p>\n",
       "</div>"
      ],
      "text/plain": [
       "    sentiment                                               text  \\\n",
       "0         pos                  I got the best service from them.   \n",
       "1         pos  Very impressive service for the customers. I l...   \n",
       "2         pos  Never had any issues with their delivery, alwa...   \n",
       "3         pos  Great Service Pre-Order option is great. Lovin...   \n",
       "4         pos                   Delivery service at its best....   \n",
       "..        ...                                                ...   \n",
       "562       neg  Food is very very bad. He gives wrong food. Ve...   \n",
       "563       neg  I ordered food almost pos and pos/2 hour ago a...   \n",
       "564       neg  Order pos4neg tk and they deliver me 4neg tk b...   \n",
       "565       neg                                        Worst rider   \n",
       "566       neg  I was waiting a long time for food.. It was co...   \n",
       "\n",
       "                                             msg_clean  \\\n",
       "0                     I got the best service from them   \n",
       "1    Very impressive service for the customers I lo...   \n",
       "2    Never had any issues with their delivery alway...   \n",
       "3    Great Service PreOrder option is great Loving it    \n",
       "4                         Delivery service at its best   \n",
       "..                                                 ...   \n",
       "562  Food is very very bad He gives wrong food Very...   \n",
       "563  I ordered food almost pos and pos2 hour ago an...   \n",
       "564  Order pos4neg tk and they deliver me 4neg tk b...   \n",
       "565                                        Worst rider   \n",
       "566  I was waiting a long time for food It was come...   \n",
       "\n",
       "                                   msg_clean_tokenized  \\\n",
       "0             [i, got, the, best, service, from, them]   \n",
       "1    [very, impressive, service, for, the, customer...   \n",
       "2    [never, had, any, issues, with, their, deliver...   \n",
       "3    [great, service, preorder, option, is, great, ...   \n",
       "4                   [delivery, service, at, its, best]   \n",
       "..                                                 ...   \n",
       "562  [food, is, very, very, bad, he, gives, wrong, ...   \n",
       "563  [i, ordered, food, almost, pos, and, pos2, hou...   \n",
       "564  [order, pos4neg, tk, and, they, deliver, me, 4...   \n",
       "565                                     [worst, rider]   \n",
       "566  [i, was, waiting, a, long, time, for, food, it...   \n",
       "\n",
       "                                             msg_no_sw  \\\n",
       "0                                 [got, best, service]   \n",
       "1    [impressive, service, customers, love, comes, ...   \n",
       "2    [never, issues, delivery, always, got, food, t...   \n",
       "3    [great, service, preorder, option, great, loving]   \n",
       "4                            [delivery, service, best]   \n",
       "..                                                 ...   \n",
       "562               [food, bad, gives, wrong, food, bad]   \n",
       "563  [ordered, food, almost, pos, pos2, hour, ago, ...   \n",
       "564    [order, pos4neg, tk, deliver, 4neg, tk, burger]   \n",
       "565                                     [worst, rider]   \n",
       "566      [waiting, long, time, food, come, long, time]   \n",
       "\n",
       "                                                Review  \n",
       "0                                     got best service  \n",
       "1    impressive service customer love come call con...  \n",
       "2    never issue delivery always got food time prob...  \n",
       "3           great service preorder option great loving  \n",
       "4                                delivery service best  \n",
       "..                                                 ...  \n",
       "562                       food bad give wrong food bad  \n",
       "563  ordered food almost po pos2 hour ago still rec...  \n",
       "564            order pos4neg tk deliver 4neg tk burger  \n",
       "565                                        worst rider  \n",
       "566              waiting long time food come long time  \n",
       "\n",
       "[567 rows x 6 columns]"
      ]
     },
     "execution_count": 65,
     "metadata": {},
     "output_type": "execute_result"
    }
   ],
   "source": [
    "def lemmatization(token_txt):   \n",
    "    text = [wn.lemmatize(word) for word in token_txt]\n",
    "    text=\" \".join(text)\n",
    "    return text \n",
    "data['Review'] = data['msg_no_sw'].apply(lambda x: lemmatization(x)) \n",
    "data"
   ]
  },
  {
   "cell_type": "markdown",
   "metadata": {},
   "source": [
    "# Remove Some column"
   ]
  },
  {
   "cell_type": "code",
   "execution_count": 66,
   "metadata": {},
   "outputs": [
    {
     "data": {
      "text/html": [
       "<div>\n",
       "<style scoped>\n",
       "    .dataframe tbody tr th:only-of-type {\n",
       "        vertical-align: middle;\n",
       "    }\n",
       "\n",
       "    .dataframe tbody tr th {\n",
       "        vertical-align: top;\n",
       "    }\n",
       "\n",
       "    .dataframe thead th {\n",
       "        text-align: right;\n",
       "    }\n",
       "</style>\n",
       "<table border=\"1\" class=\"dataframe\">\n",
       "  <thead>\n",
       "    <tr style=\"text-align: right;\">\n",
       "      <th></th>\n",
       "      <th>sentiment</th>\n",
       "      <th>msg_clean</th>\n",
       "      <th>msg_clean_tokenized</th>\n",
       "      <th>msg_no_sw</th>\n",
       "      <th>Review</th>\n",
       "    </tr>\n",
       "  </thead>\n",
       "  <tbody>\n",
       "    <tr>\n",
       "      <th>0</th>\n",
       "      <td>pos</td>\n",
       "      <td>I got the best service from them</td>\n",
       "      <td>[i, got, the, best, service, from, them]</td>\n",
       "      <td>[got, best, service]</td>\n",
       "      <td>got best service</td>\n",
       "    </tr>\n",
       "    <tr>\n",
       "      <th>1</th>\n",
       "      <td>pos</td>\n",
       "      <td>Very impressive service for the customers I lo...</td>\n",
       "      <td>[very, impressive, service, for, the, customer...</td>\n",
       "      <td>[impressive, service, customers, love, comes, ...</td>\n",
       "      <td>impressive service customer love come call con...</td>\n",
       "    </tr>\n",
       "    <tr>\n",
       "      <th>2</th>\n",
       "      <td>pos</td>\n",
       "      <td>Never had any issues with their delivery alway...</td>\n",
       "      <td>[never, had, any, issues, with, their, deliver...</td>\n",
       "      <td>[never, issues, delivery, always, got, food, t...</td>\n",
       "      <td>never issue delivery always got food time prob...</td>\n",
       "    </tr>\n",
       "    <tr>\n",
       "      <th>3</th>\n",
       "      <td>pos</td>\n",
       "      <td>Great Service PreOrder option is great Loving it</td>\n",
       "      <td>[great, service, preorder, option, is, great, ...</td>\n",
       "      <td>[great, service, preorder, option, great, loving]</td>\n",
       "      <td>great service preorder option great loving</td>\n",
       "    </tr>\n",
       "    <tr>\n",
       "      <th>4</th>\n",
       "      <td>pos</td>\n",
       "      <td>Delivery service at its best</td>\n",
       "      <td>[delivery, service, at, its, best]</td>\n",
       "      <td>[delivery, service, best]</td>\n",
       "      <td>delivery service best</td>\n",
       "    </tr>\n",
       "    <tr>\n",
       "      <th>...</th>\n",
       "      <td>...</td>\n",
       "      <td>...</td>\n",
       "      <td>...</td>\n",
       "      <td>...</td>\n",
       "      <td>...</td>\n",
       "    </tr>\n",
       "    <tr>\n",
       "      <th>562</th>\n",
       "      <td>neg</td>\n",
       "      <td>Food is very very bad He gives wrong food Very...</td>\n",
       "      <td>[food, is, very, very, bad, he, gives, wrong, ...</td>\n",
       "      <td>[food, bad, gives, wrong, food, bad]</td>\n",
       "      <td>food bad give wrong food bad</td>\n",
       "    </tr>\n",
       "    <tr>\n",
       "      <th>563</th>\n",
       "      <td>neg</td>\n",
       "      <td>I ordered food almost pos and pos2 hour ago an...</td>\n",
       "      <td>[i, ordered, food, almost, pos, and, pos2, hou...</td>\n",
       "      <td>[ordered, food, almost, pos, pos2, hour, ago, ...</td>\n",
       "      <td>ordered food almost po pos2 hour ago still rec...</td>\n",
       "    </tr>\n",
       "    <tr>\n",
       "      <th>564</th>\n",
       "      <td>neg</td>\n",
       "      <td>Order pos4neg tk and they deliver me 4neg tk b...</td>\n",
       "      <td>[order, pos4neg, tk, and, they, deliver, me, 4...</td>\n",
       "      <td>[order, pos4neg, tk, deliver, 4neg, tk, burger]</td>\n",
       "      <td>order pos4neg tk deliver 4neg tk burger</td>\n",
       "    </tr>\n",
       "    <tr>\n",
       "      <th>565</th>\n",
       "      <td>neg</td>\n",
       "      <td>Worst rider</td>\n",
       "      <td>[worst, rider]</td>\n",
       "      <td>[worst, rider]</td>\n",
       "      <td>worst rider</td>\n",
       "    </tr>\n",
       "    <tr>\n",
       "      <th>566</th>\n",
       "      <td>neg</td>\n",
       "      <td>I was waiting a long time for food It was come...</td>\n",
       "      <td>[i, was, waiting, a, long, time, for, food, it...</td>\n",
       "      <td>[waiting, long, time, food, come, long, time]</td>\n",
       "      <td>waiting long time food come long time</td>\n",
       "    </tr>\n",
       "  </tbody>\n",
       "</table>\n",
       "<p>567 rows × 5 columns</p>\n",
       "</div>"
      ],
      "text/plain": [
       "    sentiment                                          msg_clean  \\\n",
       "0         pos                   I got the best service from them   \n",
       "1         pos  Very impressive service for the customers I lo...   \n",
       "2         pos  Never had any issues with their delivery alway...   \n",
       "3         pos  Great Service PreOrder option is great Loving it    \n",
       "4         pos                       Delivery service at its best   \n",
       "..        ...                                                ...   \n",
       "562       neg  Food is very very bad He gives wrong food Very...   \n",
       "563       neg  I ordered food almost pos and pos2 hour ago an...   \n",
       "564       neg  Order pos4neg tk and they deliver me 4neg tk b...   \n",
       "565       neg                                        Worst rider   \n",
       "566       neg  I was waiting a long time for food It was come...   \n",
       "\n",
       "                                   msg_clean_tokenized  \\\n",
       "0             [i, got, the, best, service, from, them]   \n",
       "1    [very, impressive, service, for, the, customer...   \n",
       "2    [never, had, any, issues, with, their, deliver...   \n",
       "3    [great, service, preorder, option, is, great, ...   \n",
       "4                   [delivery, service, at, its, best]   \n",
       "..                                                 ...   \n",
       "562  [food, is, very, very, bad, he, gives, wrong, ...   \n",
       "563  [i, ordered, food, almost, pos, and, pos2, hou...   \n",
       "564  [order, pos4neg, tk, and, they, deliver, me, 4...   \n",
       "565                                     [worst, rider]   \n",
       "566  [i, was, waiting, a, long, time, for, food, it...   \n",
       "\n",
       "                                             msg_no_sw  \\\n",
       "0                                 [got, best, service]   \n",
       "1    [impressive, service, customers, love, comes, ...   \n",
       "2    [never, issues, delivery, always, got, food, t...   \n",
       "3    [great, service, preorder, option, great, loving]   \n",
       "4                            [delivery, service, best]   \n",
       "..                                                 ...   \n",
       "562               [food, bad, gives, wrong, food, bad]   \n",
       "563  [ordered, food, almost, pos, pos2, hour, ago, ...   \n",
       "564    [order, pos4neg, tk, deliver, 4neg, tk, burger]   \n",
       "565                                     [worst, rider]   \n",
       "566      [waiting, long, time, food, come, long, time]   \n",
       "\n",
       "                                                Review  \n",
       "0                                     got best service  \n",
       "1    impressive service customer love come call con...  \n",
       "2    never issue delivery always got food time prob...  \n",
       "3           great service preorder option great loving  \n",
       "4                                delivery service best  \n",
       "..                                                 ...  \n",
       "562                       food bad give wrong food bad  \n",
       "563  ordered food almost po pos2 hour ago still rec...  \n",
       "564            order pos4neg tk deliver 4neg tk burger  \n",
       "565                                        worst rider  \n",
       "566              waiting long time food come long time  \n",
       "\n",
       "[567 rows x 5 columns]"
      ]
     },
     "execution_count": 66,
     "metadata": {},
     "output_type": "execute_result"
    }
   ],
   "source": [
    "del data['text']\n",
    "data"
   ]
  },
  {
   "cell_type": "code",
   "execution_count": 67,
   "metadata": {},
   "outputs": [
    {
     "data": {
      "text/html": [
       "<div>\n",
       "<style scoped>\n",
       "    .dataframe tbody tr th:only-of-type {\n",
       "        vertical-align: middle;\n",
       "    }\n",
       "\n",
       "    .dataframe tbody tr th {\n",
       "        vertical-align: top;\n",
       "    }\n",
       "\n",
       "    .dataframe thead th {\n",
       "        text-align: right;\n",
       "    }\n",
       "</style>\n",
       "<table border=\"1\" class=\"dataframe\">\n",
       "  <thead>\n",
       "    <tr style=\"text-align: right;\">\n",
       "      <th></th>\n",
       "      <th>sentiment</th>\n",
       "      <th>msg_clean_tokenized</th>\n",
       "      <th>msg_no_sw</th>\n",
       "      <th>Review</th>\n",
       "    </tr>\n",
       "  </thead>\n",
       "  <tbody>\n",
       "    <tr>\n",
       "      <th>0</th>\n",
       "      <td>pos</td>\n",
       "      <td>[i, got, the, best, service, from, them]</td>\n",
       "      <td>[got, best, service]</td>\n",
       "      <td>got best service</td>\n",
       "    </tr>\n",
       "    <tr>\n",
       "      <th>1</th>\n",
       "      <td>pos</td>\n",
       "      <td>[very, impressive, service, for, the, customer...</td>\n",
       "      <td>[impressive, service, customers, love, comes, ...</td>\n",
       "      <td>impressive service customer love come call con...</td>\n",
       "    </tr>\n",
       "    <tr>\n",
       "      <th>2</th>\n",
       "      <td>pos</td>\n",
       "      <td>[never, had, any, issues, with, their, deliver...</td>\n",
       "      <td>[never, issues, delivery, always, got, food, t...</td>\n",
       "      <td>never issue delivery always got food time prob...</td>\n",
       "    </tr>\n",
       "    <tr>\n",
       "      <th>3</th>\n",
       "      <td>pos</td>\n",
       "      <td>[great, service, preorder, option, is, great, ...</td>\n",
       "      <td>[great, service, preorder, option, great, loving]</td>\n",
       "      <td>great service preorder option great loving</td>\n",
       "    </tr>\n",
       "    <tr>\n",
       "      <th>4</th>\n",
       "      <td>pos</td>\n",
       "      <td>[delivery, service, at, its, best]</td>\n",
       "      <td>[delivery, service, best]</td>\n",
       "      <td>delivery service best</td>\n",
       "    </tr>\n",
       "    <tr>\n",
       "      <th>...</th>\n",
       "      <td>...</td>\n",
       "      <td>...</td>\n",
       "      <td>...</td>\n",
       "      <td>...</td>\n",
       "    </tr>\n",
       "    <tr>\n",
       "      <th>562</th>\n",
       "      <td>neg</td>\n",
       "      <td>[food, is, very, very, bad, he, gives, wrong, ...</td>\n",
       "      <td>[food, bad, gives, wrong, food, bad]</td>\n",
       "      <td>food bad give wrong food bad</td>\n",
       "    </tr>\n",
       "    <tr>\n",
       "      <th>563</th>\n",
       "      <td>neg</td>\n",
       "      <td>[i, ordered, food, almost, pos, and, pos2, hou...</td>\n",
       "      <td>[ordered, food, almost, pos, pos2, hour, ago, ...</td>\n",
       "      <td>ordered food almost po pos2 hour ago still rec...</td>\n",
       "    </tr>\n",
       "    <tr>\n",
       "      <th>564</th>\n",
       "      <td>neg</td>\n",
       "      <td>[order, pos4neg, tk, and, they, deliver, me, 4...</td>\n",
       "      <td>[order, pos4neg, tk, deliver, 4neg, tk, burger]</td>\n",
       "      <td>order pos4neg tk deliver 4neg tk burger</td>\n",
       "    </tr>\n",
       "    <tr>\n",
       "      <th>565</th>\n",
       "      <td>neg</td>\n",
       "      <td>[worst, rider]</td>\n",
       "      <td>[worst, rider]</td>\n",
       "      <td>worst rider</td>\n",
       "    </tr>\n",
       "    <tr>\n",
       "      <th>566</th>\n",
       "      <td>neg</td>\n",
       "      <td>[i, was, waiting, a, long, time, for, food, it...</td>\n",
       "      <td>[waiting, long, time, food, come, long, time]</td>\n",
       "      <td>waiting long time food come long time</td>\n",
       "    </tr>\n",
       "  </tbody>\n",
       "</table>\n",
       "<p>567 rows × 4 columns</p>\n",
       "</div>"
      ],
      "text/plain": [
       "    sentiment                                msg_clean_tokenized  \\\n",
       "0         pos           [i, got, the, best, service, from, them]   \n",
       "1         pos  [very, impressive, service, for, the, customer...   \n",
       "2         pos  [never, had, any, issues, with, their, deliver...   \n",
       "3         pos  [great, service, preorder, option, is, great, ...   \n",
       "4         pos                 [delivery, service, at, its, best]   \n",
       "..        ...                                                ...   \n",
       "562       neg  [food, is, very, very, bad, he, gives, wrong, ...   \n",
       "563       neg  [i, ordered, food, almost, pos, and, pos2, hou...   \n",
       "564       neg  [order, pos4neg, tk, and, they, deliver, me, 4...   \n",
       "565       neg                                     [worst, rider]   \n",
       "566       neg  [i, was, waiting, a, long, time, for, food, it...   \n",
       "\n",
       "                                             msg_no_sw  \\\n",
       "0                                 [got, best, service]   \n",
       "1    [impressive, service, customers, love, comes, ...   \n",
       "2    [never, issues, delivery, always, got, food, t...   \n",
       "3    [great, service, preorder, option, great, loving]   \n",
       "4                            [delivery, service, best]   \n",
       "..                                                 ...   \n",
       "562               [food, bad, gives, wrong, food, bad]   \n",
       "563  [ordered, food, almost, pos, pos2, hour, ago, ...   \n",
       "564    [order, pos4neg, tk, deliver, 4neg, tk, burger]   \n",
       "565                                     [worst, rider]   \n",
       "566      [waiting, long, time, food, come, long, time]   \n",
       "\n",
       "                                                Review  \n",
       "0                                     got best service  \n",
       "1    impressive service customer love come call con...  \n",
       "2    never issue delivery always got food time prob...  \n",
       "3           great service preorder option great loving  \n",
       "4                                delivery service best  \n",
       "..                                                 ...  \n",
       "562                       food bad give wrong food bad  \n",
       "563  ordered food almost po pos2 hour ago still rec...  \n",
       "564            order pos4neg tk deliver 4neg tk burger  \n",
       "565                                        worst rider  \n",
       "566              waiting long time food come long time  \n",
       "\n",
       "[567 rows x 4 columns]"
      ]
     },
     "execution_count": 67,
     "metadata": {},
     "output_type": "execute_result"
    }
   ],
   "source": [
    "del data['msg_clean']\n",
    "data"
   ]
  },
  {
   "cell_type": "code",
   "execution_count": 68,
   "metadata": {},
   "outputs": [
    {
     "data": {
      "text/html": [
       "<div>\n",
       "<style scoped>\n",
       "    .dataframe tbody tr th:only-of-type {\n",
       "        vertical-align: middle;\n",
       "    }\n",
       "\n",
       "    .dataframe tbody tr th {\n",
       "        vertical-align: top;\n",
       "    }\n",
       "\n",
       "    .dataframe thead th {\n",
       "        text-align: right;\n",
       "    }\n",
       "</style>\n",
       "<table border=\"1\" class=\"dataframe\">\n",
       "  <thead>\n",
       "    <tr style=\"text-align: right;\">\n",
       "      <th></th>\n",
       "      <th>sentiment</th>\n",
       "      <th>msg_no_sw</th>\n",
       "      <th>Review</th>\n",
       "    </tr>\n",
       "  </thead>\n",
       "  <tbody>\n",
       "    <tr>\n",
       "      <th>0</th>\n",
       "      <td>pos</td>\n",
       "      <td>[got, best, service]</td>\n",
       "      <td>got best service</td>\n",
       "    </tr>\n",
       "    <tr>\n",
       "      <th>1</th>\n",
       "      <td>pos</td>\n",
       "      <td>[impressive, service, customers, love, comes, ...</td>\n",
       "      <td>impressive service customer love come call con...</td>\n",
       "    </tr>\n",
       "    <tr>\n",
       "      <th>2</th>\n",
       "      <td>pos</td>\n",
       "      <td>[never, issues, delivery, always, got, food, t...</td>\n",
       "      <td>never issue delivery always got food time prob...</td>\n",
       "    </tr>\n",
       "    <tr>\n",
       "      <th>3</th>\n",
       "      <td>pos</td>\n",
       "      <td>[great, service, preorder, option, great, loving]</td>\n",
       "      <td>great service preorder option great loving</td>\n",
       "    </tr>\n",
       "    <tr>\n",
       "      <th>4</th>\n",
       "      <td>pos</td>\n",
       "      <td>[delivery, service, best]</td>\n",
       "      <td>delivery service best</td>\n",
       "    </tr>\n",
       "    <tr>\n",
       "      <th>...</th>\n",
       "      <td>...</td>\n",
       "      <td>...</td>\n",
       "      <td>...</td>\n",
       "    </tr>\n",
       "    <tr>\n",
       "      <th>562</th>\n",
       "      <td>neg</td>\n",
       "      <td>[food, bad, gives, wrong, food, bad]</td>\n",
       "      <td>food bad give wrong food bad</td>\n",
       "    </tr>\n",
       "    <tr>\n",
       "      <th>563</th>\n",
       "      <td>neg</td>\n",
       "      <td>[ordered, food, almost, pos, pos2, hour, ago, ...</td>\n",
       "      <td>ordered food almost po pos2 hour ago still rec...</td>\n",
       "    </tr>\n",
       "    <tr>\n",
       "      <th>564</th>\n",
       "      <td>neg</td>\n",
       "      <td>[order, pos4neg, tk, deliver, 4neg, tk, burger]</td>\n",
       "      <td>order pos4neg tk deliver 4neg tk burger</td>\n",
       "    </tr>\n",
       "    <tr>\n",
       "      <th>565</th>\n",
       "      <td>neg</td>\n",
       "      <td>[worst, rider]</td>\n",
       "      <td>worst rider</td>\n",
       "    </tr>\n",
       "    <tr>\n",
       "      <th>566</th>\n",
       "      <td>neg</td>\n",
       "      <td>[waiting, long, time, food, come, long, time]</td>\n",
       "      <td>waiting long time food come long time</td>\n",
       "    </tr>\n",
       "  </tbody>\n",
       "</table>\n",
       "<p>567 rows × 3 columns</p>\n",
       "</div>"
      ],
      "text/plain": [
       "    sentiment                                          msg_no_sw  \\\n",
       "0         pos                               [got, best, service]   \n",
       "1         pos  [impressive, service, customers, love, comes, ...   \n",
       "2         pos  [never, issues, delivery, always, got, food, t...   \n",
       "3         pos  [great, service, preorder, option, great, loving]   \n",
       "4         pos                          [delivery, service, best]   \n",
       "..        ...                                                ...   \n",
       "562       neg               [food, bad, gives, wrong, food, bad]   \n",
       "563       neg  [ordered, food, almost, pos, pos2, hour, ago, ...   \n",
       "564       neg    [order, pos4neg, tk, deliver, 4neg, tk, burger]   \n",
       "565       neg                                     [worst, rider]   \n",
       "566       neg      [waiting, long, time, food, come, long, time]   \n",
       "\n",
       "                                                Review  \n",
       "0                                     got best service  \n",
       "1    impressive service customer love come call con...  \n",
       "2    never issue delivery always got food time prob...  \n",
       "3           great service preorder option great loving  \n",
       "4                                delivery service best  \n",
       "..                                                 ...  \n",
       "562                       food bad give wrong food bad  \n",
       "563  ordered food almost po pos2 hour ago still rec...  \n",
       "564            order pos4neg tk deliver 4neg tk burger  \n",
       "565                                        worst rider  \n",
       "566              waiting long time food come long time  \n",
       "\n",
       "[567 rows x 3 columns]"
      ]
     },
     "execution_count": 68,
     "metadata": {},
     "output_type": "execute_result"
    }
   ],
   "source": [
    "del data['msg_clean_tokenized']\n",
    "data"
   ]
  },
  {
   "cell_type": "markdown",
   "metadata": {},
   "source": [
    "# Final Data"
   ]
  },
  {
   "cell_type": "code",
   "execution_count": 69,
   "metadata": {},
   "outputs": [
    {
     "data": {
      "text/html": [
       "<div>\n",
       "<style scoped>\n",
       "    .dataframe tbody tr th:only-of-type {\n",
       "        vertical-align: middle;\n",
       "    }\n",
       "\n",
       "    .dataframe tbody tr th {\n",
       "        vertical-align: top;\n",
       "    }\n",
       "\n",
       "    .dataframe thead th {\n",
       "        text-align: right;\n",
       "    }\n",
       "</style>\n",
       "<table border=\"1\" class=\"dataframe\">\n",
       "  <thead>\n",
       "    <tr style=\"text-align: right;\">\n",
       "      <th></th>\n",
       "      <th>sentiment</th>\n",
       "      <th>Review</th>\n",
       "    </tr>\n",
       "  </thead>\n",
       "  <tbody>\n",
       "    <tr>\n",
       "      <th>0</th>\n",
       "      <td>pos</td>\n",
       "      <td>got best service</td>\n",
       "    </tr>\n",
       "    <tr>\n",
       "      <th>1</th>\n",
       "      <td>pos</td>\n",
       "      <td>impressive service customer love come call con...</td>\n",
       "    </tr>\n",
       "    <tr>\n",
       "      <th>2</th>\n",
       "      <td>pos</td>\n",
       "      <td>never issue delivery always got food time prob...</td>\n",
       "    </tr>\n",
       "    <tr>\n",
       "      <th>3</th>\n",
       "      <td>pos</td>\n",
       "      <td>great service preorder option great loving</td>\n",
       "    </tr>\n",
       "    <tr>\n",
       "      <th>4</th>\n",
       "      <td>pos</td>\n",
       "      <td>delivery service best</td>\n",
       "    </tr>\n",
       "    <tr>\n",
       "      <th>...</th>\n",
       "      <td>...</td>\n",
       "      <td>...</td>\n",
       "    </tr>\n",
       "    <tr>\n",
       "      <th>562</th>\n",
       "      <td>neg</td>\n",
       "      <td>food bad give wrong food bad</td>\n",
       "    </tr>\n",
       "    <tr>\n",
       "      <th>563</th>\n",
       "      <td>neg</td>\n",
       "      <td>ordered food almost po pos2 hour ago still rec...</td>\n",
       "    </tr>\n",
       "    <tr>\n",
       "      <th>564</th>\n",
       "      <td>neg</td>\n",
       "      <td>order pos4neg tk deliver 4neg tk burger</td>\n",
       "    </tr>\n",
       "    <tr>\n",
       "      <th>565</th>\n",
       "      <td>neg</td>\n",
       "      <td>worst rider</td>\n",
       "    </tr>\n",
       "    <tr>\n",
       "      <th>566</th>\n",
       "      <td>neg</td>\n",
       "      <td>waiting long time food come long time</td>\n",
       "    </tr>\n",
       "  </tbody>\n",
       "</table>\n",
       "<p>567 rows × 2 columns</p>\n",
       "</div>"
      ],
      "text/plain": [
       "    sentiment                                             Review\n",
       "0         pos                                   got best service\n",
       "1         pos  impressive service customer love come call con...\n",
       "2         pos  never issue delivery always got food time prob...\n",
       "3         pos         great service preorder option great loving\n",
       "4         pos                              delivery service best\n",
       "..        ...                                                ...\n",
       "562       neg                       food bad give wrong food bad\n",
       "563       neg  ordered food almost po pos2 hour ago still rec...\n",
       "564       neg            order pos4neg tk deliver 4neg tk burger\n",
       "565       neg                                        worst rider\n",
       "566       neg              waiting long time food come long time\n",
       "\n",
       "[567 rows x 2 columns]"
      ]
     },
     "execution_count": 69,
     "metadata": {},
     "output_type": "execute_result"
    }
   ],
   "source": [
    "del data['msg_no_sw']\n",
    "data"
   ]
  },
  {
   "cell_type": "markdown",
   "metadata": {},
   "source": [
    "# count some value"
   ]
  },
  {
   "cell_type": "code",
   "execution_count": 70,
   "metadata": {},
   "outputs": [
    {
     "data": {
      "text/plain": [
       "neg    295\n",
       "pos    272\n",
       "Name: sentiment, dtype: int64"
      ]
     },
     "execution_count": 70,
     "metadata": {},
     "output_type": "execute_result"
    }
   ],
   "source": [
    "data['sentiment'].value_counts()"
   ]
  },
  {
   "cell_type": "code",
   "execution_count": 71,
   "metadata": {},
   "outputs": [],
   "source": [
    "data.drop_duplicates(inplace = True)"
   ]
  },
  {
   "cell_type": "code",
   "execution_count": 72,
   "metadata": {},
   "outputs": [
    {
     "data": {
      "text/plain": [
       "neg    289\n",
       "pos    264\n",
       "Name: sentiment, dtype: int64"
      ]
     },
     "execution_count": 72,
     "metadata": {},
     "output_type": "execute_result"
    }
   ],
   "source": [
    "data['sentiment'].value_counts()"
   ]
  },
  {
   "cell_type": "code",
   "execution_count": 73,
   "metadata": {},
   "outputs": [
    {
     "data": {
      "text/plain": [
       "sentiment    0\n",
       "Review       0\n",
       "dtype: int64"
      ]
     },
     "execution_count": 73,
     "metadata": {},
     "output_type": "execute_result"
    }
   ],
   "source": [
    "data.isnull().sum()"
   ]
  },
  {
   "cell_type": "markdown",
   "metadata": {},
   "source": [
    "# Data exploration"
   ]
  },
  {
   "cell_type": "code",
   "execution_count": 74,
   "metadata": {},
   "outputs": [
    {
     "data": {
      "text/plain": [
       "<AxesSubplot:>"
      ]
     },
     "execution_count": 74,
     "metadata": {},
     "output_type": "execute_result"
    },
    {
     "data": {
      "image/png": "[encoded data removed]",
      "text/plain": [
       "<Figure size 432x288 with 1 Axes>"
      ]
     },
     "metadata": {
      "needs_background": "light"
     },
     "output_type": "display_data"
    }
   ],
   "source": [
    "data['sentiment'].value_counts().sort_index().plot.bar()"
   ]
  },
  {
   "cell_type": "code",
   "execution_count": 75,
   "metadata": {},
   "outputs": [
    {
     "data": {
      "text/plain": [
       "<AxesSubplot:ylabel='Frequency'>"
      ]
     },
     "execution_count": 75,
     "metadata": {},
     "output_type": "execute_result"
    },
    {
     "data": {
      "image/png": "[encoded data removed]",
      "text/plain": [
       "<Figure size 432x288 with 1 Axes>"
      ]
     },
     "metadata": {
      "needs_background": "light"
     },
     "output_type": "display_data"
    }
   ],
   "source": [
    "data['Review'].str.len().plot.hist()"
   ]
  },
  {
   "cell_type": "markdown",
   "metadata": {},
   "source": [
    "# Feature Extraction"
   ]
  },
  {
   "cell_type": "code",
   "execution_count": 76,
   "metadata": {},
   "outputs": [],
   "source": [
    "from sklearn.feature_extraction.text import CountVectorizer\n",
    "ngram_vectorizer = CountVectorizer(ngram_range=(1,1))\n",
    "X = ngram_vectorizer.fit_transform(data.Review)\n"
   ]
  },
  {
   "cell_type": "code",
   "execution_count": 77,
   "metadata": {},
   "outputs": [
    {
     "data": {
      "text/plain": [
       "array([[0, 0, 0, ..., 0, 0, 0],\n",
       "       [0, 0, 0, ..., 0, 0, 0],\n",
       "       [0, 0, 0, ..., 0, 0, 0],\n",
       "       ...,\n",
       "       [0, 0, 0, ..., 0, 0, 0],\n",
       "       [0, 0, 0, ..., 0, 0, 0],\n",
       "       [0, 0, 0, ..., 0, 0, 0]], dtype=int64)"
      ]
     },
     "execution_count": 77,
     "metadata": {},
     "output_type": "execute_result"
    }
   ],
   "source": [
    "X.toarray()"
   ]
  },
  {
   "cell_type": "markdown",
   "metadata": {},
   "source": [
    "# one hot encoding"
   ]
  },
  {
   "cell_type": "code",
   "execution_count": 78,
   "metadata": {},
   "outputs": [
    {
     "data": {
      "text/plain": [
       "1"
      ]
     },
     "execution_count": 78,
     "metadata": {},
     "output_type": "execute_result"
    }
   ],
   "source": [
    "from keras.utils import np_utils\n",
    "from sklearn.preprocessing import LabelEncoder\n",
    "\n",
    "encoder = LabelEncoder()\n",
    "encoded_y=encoder.fit_transform(data.sentiment)\n",
    "\n",
    "# convert integers to one hot encoded\n",
    "y_categorical = np_utils.to_categorical(encoded_y)\n",
    "import numpy as np\n",
    "y=np.argmax(y_categorical, axis=1)\n",
    "y[1]"
   ]
  },
  {
   "cell_type": "code",
   "execution_count": 79,
   "metadata": {},
   "outputs": [
    {
     "data": {
      "text/plain": [
       "array([1, 1, 1, 1, 1, 0, 0, 0, 0, 0], dtype=int64)"
      ]
     },
     "execution_count": 79,
     "metadata": {},
     "output_type": "execute_result"
    }
   ],
   "source": [
    "y[0:10]"
   ]
  },
  {
   "cell_type": "markdown",
   "metadata": {},
   "source": [
    "# Split data"
   ]
  },
  {
   "cell_type": "code",
   "execution_count": 80,
   "metadata": {},
   "outputs": [
    {
     "name": "stdout",
     "output_type": "stream",
     "text": [
      "(442, 1669) (442,)\n",
      "(111, 1669) (111,)\n"
     ]
    }
   ],
   "source": [
    "X_train, X_test, y_train, y_test = train_test_split(X,y, test_size = 0.20,random_state=42)\n",
    "print(X_train.shape,y_train.shape)\n",
    "print(X_test.shape,y_test.shape)"
   ]
  },
  {
   "cell_type": "markdown",
   "metadata": {},
   "source": [
    "# (Random forest classifier)"
   ]
  },
  {
   "cell_type": "code",
   "execution_count": 81,
   "metadata": {},
   "outputs": [
    {
     "name": "stdout",
     "output_type": "stream",
     "text": [
      "Random forest Accuracy: 0.92\n"
     ]
    }
   ],
   "source": [
    "from sklearn.ensemble import RandomForestClassifier\n",
    "from sklearn.metrics import accuracy_score\n",
    "from sklearn import metrics\n",
    "rfc = RandomForestClassifier(n_estimators=1000,max_depth=20,random_state=0)\n",
    "rfc.fit(X_train, y_train)\n",
    "pred_rfc=rfc.predict(X_test)\n",
    "print(\"Random forest Accuracy: %.2f\"%(metrics.accuracy_score(y_test, pred_rfc)))"
   ]
  },
  {
   "cell_type": "code",
   "execution_count": 82,
   "metadata": {},
   "outputs": [
    {
     "name": "stdout",
     "output_type": "stream",
     "text": [
      "[[[49  4]\n",
      "  [ 5 53]]\n",
      "\n",
      " [[53  5]\n",
      "  [ 4 49]]]\n"
     ]
    }
   ],
   "source": [
    "from sklearn.metrics import multilabel_confusion_matrix\n",
    "confusion =multilabel_confusion_matrix(y_test,pred_rfc)\n",
    "print(confusion)"
   ]
  },
  {
   "cell_type": "code",
   "execution_count": 83,
   "metadata": {},
   "outputs": [
    {
     "data": {
      "text/plain": [
       "<Figure size 720x720 with 0 Axes>"
      ]
     },
     "execution_count": 83,
     "metadata": {},
     "output_type": "execute_result"
    },
    {
     "data": {
      "image/png": "[encoded data removed]",
      "text/plain": [
       "<Figure size 432x288 with 2 Axes>"
      ]
     },
     "metadata": {
      "needs_background": "light"
     },
     "output_type": "display_data"
    },
    {
     "data": {
      "text/plain": [
       "<Figure size 720x720 with 0 Axes>"
      ]
     },
     "metadata": {},
     "output_type": "display_data"
    }
   ],
   "source": [
    "import seaborn as sn\n",
    "from sklearn import metrics\n",
    "import matplotlib.pyplot as plt\n",
    "confusion=metrics.confusion_matrix(y_test,pred_rfc)\n",
    "plt.xlabel('true')\n",
    "plt.ylabel('Predicted')\n",
    "sn.heatmap(confusion,annot=True)\n",
    "plt.title('Without Normalized Confusion matrix for our classifier')\n",
    "plt.figure(figsize=(10,10))"
   ]
  },
  {
   "cell_type": "code",
   "execution_count": 84,
   "metadata": {},
   "outputs": [
    {
     "data": {
      "image/png": "[encoded data removed]",
      "text/plain": [
       "<Figure size 432x288 with 2 Axes>"
      ]
     },
     "metadata": {
      "needs_background": "light"
     },
     "output_type": "display_data"
    }
   ],
   "source": [
    "import matplotlib.pyplot as plt\n",
    "from sklearn.metrics import plot_confusion_matrix\n",
    "from mlxtend.plotting import plot_decision_regions\n",
    "matrix =plot_confusion_matrix(rfc, X_test, y_test,\n",
    "                                 cmap=plt.cm.Blues,\n",
    "                                 normalize='true')\n",
    "plt.title('Normalized Confusion matrix for our classifier')\n",
    "plt.show(matrix)\n",
    "plt.show()"
   ]
  },
  {
   "cell_type": "code",
   "execution_count": 85,
   "metadata": {},
   "outputs": [
    {
     "name": "stdout",
     "output_type": "stream",
     "text": [
      "              precision    recall  f1-score   support\n",
      "\n",
      "           0       0.93      0.91      0.92        58\n",
      "           1       0.91      0.92      0.92        53\n",
      "\n",
      "    accuracy                           0.92       111\n",
      "   macro avg       0.92      0.92      0.92       111\n",
      "weighted avg       0.92      0.92      0.92       111\n",
      "\n"
     ]
    }
   ],
   "source": [
    "from sklearn.metrics import classification_report\n",
    "print(classification_report(y_test,pred_rfc))"
   ]
  },
  {
   "cell_type": "markdown",
   "metadata": {},
   "source": [
    "# Extra Trees"
   ]
  },
  {
   "cell_type": "code",
   "execution_count": 86,
   "metadata": {},
   "outputs": [
    {
     "name": "stdout",
     "output_type": "stream",
     "text": [
      "Decision Tree Accuracy: 0.94\n"
     ]
    }
   ],
   "source": [
    "from sklearn.ensemble import ExtraTreesClassifier\n",
    "extra = ExtraTreesClassifier(n_estimators=500, max_depth=20, random_state=0)\n",
    "extra.fit(X_train,y_train)\n",
    "pred_extra = extra.predict(X_test)\n",
    "print(\"Decision Tree Accuracy: %.2f\"%(metrics.accuracy_score(y_test, pred_extra)))"
   ]
  },
  {
   "cell_type": "code",
   "execution_count": 87,
   "metadata": {},
   "outputs": [
    {
     "name": "stdout",
     "output_type": "stream",
     "text": [
      "[[[49  4]\n",
      "  [ 3 55]]\n",
      "\n",
      " [[55  3]\n",
      "  [ 4 49]]]\n"
     ]
    }
   ],
   "source": [
    "from sklearn.metrics import multilabel_confusion_matrix\n",
    "confusion =multilabel_confusion_matrix(y_test,pred_extra)\n",
    "print(confusion)"
   ]
  },
  {
   "cell_type": "code",
   "execution_count": 88,
   "metadata": {},
   "outputs": [
    {
     "data": {
      "text/plain": [
       "<Figure size 720x720 with 0 Axes>"
      ]
     },
     "execution_count": 88,
     "metadata": {},
     "output_type": "execute_result"
    },
    {
     "data": {
      "image/png": "[encoded data removed]",
      "text/plain": [
       "<Figure size 432x288 with 2 Axes>"
      ]
     },
     "metadata": {
      "needs_background": "light"
     },
     "output_type": "display_data"
    },
    {
     "data": {
      "text/plain": [
       "<Figure size 720x720 with 0 Axes>"
      ]
     },
     "metadata": {},
     "output_type": "display_data"
    }
   ],
   "source": [
    "import seaborn as sn\n",
    "import matplotlib.pyplot as plt\n",
    "confusion=metrics.confusion_matrix(y_test,pred_extra)\n",
    "plt.xlabel('true')\n",
    "plt.ylabel('Predicted')\n",
    "sn.heatmap(confusion,annot=True)\n",
    "plt.title('Without Normalized Confusion matrix for our classifier')\n",
    "plt.figure(figsize=(10,10))"
   ]
  },
  {
   "cell_type": "code",
   "execution_count": 89,
   "metadata": {},
   "outputs": [
    {
     "data": {
      "image/png": "[encoded data removed]",
      "text/plain": [
       "<Figure size 432x288 with 2 Axes>"
      ]
     },
     "metadata": {
      "needs_background": "light"
     },
     "output_type": "display_data"
    }
   ],
   "source": [
    "import matplotlib.pyplot as plt\n",
    "from sklearn.metrics import plot_confusion_matrix\n",
    "from mlxtend.plotting import plot_decision_regions\n",
    "matrix =plot_confusion_matrix(extra, X_test, y_test,\n",
    "                                 cmap=plt.cm.Blues,\n",
    "                                 normalize='true')\n",
    "plt.title('Normalized Confusion matrix for our classifier')\n",
    "plt.show(matrix)\n",
    "plt.show()"
   ]
  },
  {
   "cell_type": "code",
   "execution_count": 90,
   "metadata": {},
   "outputs": [
    {
     "name": "stdout",
     "output_type": "stream",
     "text": [
      "              precision    recall  f1-score   support\n",
      "\n",
      "           0       0.93      0.95      0.94        58\n",
      "           1       0.94      0.92      0.93        53\n",
      "\n",
      "    accuracy                           0.94       111\n",
      "   macro avg       0.94      0.94      0.94       111\n",
      "weighted avg       0.94      0.94      0.94       111\n",
      "\n"
     ]
    }
   ],
   "source": [
    "from sklearn.metrics import classification_report\n",
    "print(classification_report(y_test,pred_extra))"
   ]
  },
  {
   "cell_type": "markdown",
   "metadata": {},
   "source": [
    "# Multinomial Naive Bayes¶"
   ]
  },
  {
   "cell_type": "code",
   "execution_count": 91,
   "metadata": {},
   "outputs": [
    {
     "name": "stdout",
     "output_type": "stream",
     "text": [
      "MUltinomial Naive Bayes Accuracy: 0.93\n"
     ]
    }
   ],
   "source": [
    "from sklearn.naive_bayes import MultinomialNB\n",
    "mnb = MultinomialNB()\n",
    "mnb.fit(X_train, y_train)\n",
    "pred_mnb=mnb.predict(X_test)\n",
    "print(\"MUltinomial Naive Bayes Accuracy: %.2f\"%(metrics.accuracy_score(y_test, pred_mnb)))"
   ]
  },
  {
   "cell_type": "code",
   "execution_count": 92,
   "metadata": {},
   "outputs": [
    {
     "name": "stdout",
     "output_type": "stream",
     "text": [
      "[[[50  3]\n",
      "  [ 5 53]]\n",
      "\n",
      " [[53  5]\n",
      "  [ 3 50]]]\n"
     ]
    }
   ],
   "source": [
    "from sklearn.metrics import multilabel_confusion_matrix\n",
    "confusion =multilabel_confusion_matrix(y_test,pred_mnb)\n",
    "print(confusion)"
   ]
  },
  {
   "cell_type": "code",
   "execution_count": 93,
   "metadata": {},
   "outputs": [
    {
     "data": {
      "text/plain": [
       "<Figure size 720x720 with 0 Axes>"
      ]
     },
     "execution_count": 93,
     "metadata": {},
     "output_type": "execute_result"
    },
    {
     "data": {
      "image/png": "[encoded data removed]",
      "text/plain": [
       "<Figure size 432x288 with 2 Axes>"
      ]
     },
     "metadata": {
      "needs_background": "light"
     },
     "output_type": "display_data"
    },
    {
     "data": {
      "text/plain": [
       "<Figure size 720x720 with 0 Axes>"
      ]
     },
     "metadata": {},
     "output_type": "display_data"
    }
   ],
   "source": [
    "import seaborn as sn\n",
    "import matplotlib.pyplot as plt\n",
    "confusion=metrics.confusion_matrix(y_test,pred_mnb)\n",
    "plt.xlabel('true')\n",
    "plt.ylabel('Predicted')\n",
    "sn.heatmap(confusion,annot=True)\n",
    "plt.title('Without Normalized Confusion matrix for our classifier')\n",
    "plt.figure(figsize=(10,10))"
   ]
  },
  {
   "cell_type": "code",
   "execution_count": 94,
   "metadata": {},
   "outputs": [
    {
     "data": {
      "image/png": "[encoded data removed]",
      "text/plain": [
       "<Figure size 432x288 with 2 Axes>"
      ]
     },
     "metadata": {
      "needs_background": "light"
     },
     "output_type": "display_data"
    }
   ],
   "source": [
    "import matplotlib.pyplot as plt\n",
    "from sklearn.metrics import plot_confusion_matrix\n",
    "from mlxtend.plotting import plot_decision_regions\n",
    "matrix =plot_confusion_matrix(mnb, X_test, y_test,\n",
    "                                 cmap=plt.cm.Blues,\n",
    "                                 normalize='true')\n",
    "plt.title('Normalized Confusion matrix for our classifier')\n",
    "plt.show(matrix)\n",
    "plt.show()"
   ]
  },
  {
   "cell_type": "code",
   "execution_count": 95,
   "metadata": {},
   "outputs": [
    {
     "name": "stdout",
     "output_type": "stream",
     "text": [
      "              precision    recall  f1-score   support\n",
      "\n",
      "           0       0.95      0.91      0.93        58\n",
      "           1       0.91      0.94      0.93        53\n",
      "\n",
      "    accuracy                           0.93       111\n",
      "   macro avg       0.93      0.93      0.93       111\n",
      "weighted avg       0.93      0.93      0.93       111\n",
      "\n"
     ]
    }
   ],
   "source": [
    "from sklearn.metrics import classification_report\n",
    "print(classification_report(y_test,pred_mnb))"
   ]
  },
  {
   "cell_type": "markdown",
   "metadata": {},
   "source": [
    "# Logistic Regression"
   ]
  },
  {
   "cell_type": "code",
   "execution_count": 96,
   "metadata": {},
   "outputs": [
    {
     "name": "stdout",
     "output_type": "stream",
     "text": [
      "Logistic Regression Accuracy: 0.93\n"
     ]
    }
   ],
   "source": [
    "from sklearn.linear_model import LogisticRegression\n",
    "lr = LogisticRegression(C=0.8)\n",
    "lr.fit(X_train, y_train)\n",
    "pred_lr=lr.predict(X_test)\n",
    "print(\"Logistic Regression Accuracy: %.2f\"%(metrics.accuracy_score(y_test, pred_lr)))"
   ]
  },
  {
   "cell_type": "code",
   "execution_count": 97,
   "metadata": {},
   "outputs": [
    {
     "name": "stdout",
     "output_type": "stream",
     "text": [
      "[[55  3]\n",
      " [ 5 48]]\n"
     ]
    }
   ],
   "source": [
    "from sklearn import metrics\n",
    "print(metrics.confusion_matrix(y_test,pred_lr))"
   ]
  },
  {
   "cell_type": "code",
   "execution_count": 98,
   "metadata": {},
   "outputs": [
    {
     "data": {
      "text/plain": [
       "<Figure size 720x720 with 0 Axes>"
      ]
     },
     "execution_count": 98,
     "metadata": {},
     "output_type": "execute_result"
    },
    {
     "data": {
      "image/png": "[encoded data removed]",
      "text/plain": [
       "<Figure size 432x288 with 2 Axes>"
      ]
     },
     "metadata": {
      "needs_background": "light"
     },
     "output_type": "display_data"
    },
    {
     "data": {
      "text/plain": [
       "<Figure size 720x720 with 0 Axes>"
      ]
     },
     "metadata": {},
     "output_type": "display_data"
    }
   ],
   "source": [
    "import seaborn as sn\n",
    "import matplotlib.pyplot as plt\n",
    "confusion=metrics.confusion_matrix(y_test,pred_lr)\n",
    "plt.xlabel('true')\n",
    "plt.ylabel('Predicted')\n",
    "sn.heatmap(confusion,annot=True)\n",
    "plt.title('Without Normalized Confusion matrix  for our classifier')\n",
    "plt.figure(figsize=(10,10))"
   ]
  },
  {
   "cell_type": "code",
   "execution_count": 99,
   "metadata": {},
   "outputs": [
    {
     "data": {
      "image/png": "[encoded data removed]",
      "text/plain": [
       "<Figure size 432x288 with 2 Axes>"
      ]
     },
     "metadata": {
      "needs_background": "light"
     },
     "output_type": "display_data"
    }
   ],
   "source": [
    "import matplotlib.pyplot as plt\n",
    "from sklearn.metrics import plot_confusion_matrix\n",
    "from mlxtend.plotting import plot_decision_regions\n",
    "matrix =plot_confusion_matrix(lr, X_test, y_test,\n",
    "                                 cmap=plt.cm.Blues,\n",
    "                                 normalize='true')\n",
    "plt.title('Normalized Confusion matrix  for our classifier')\n",
    "plt.show(matrix)\n",
    "plt.show()"
   ]
  },
  {
   "cell_type": "code",
   "execution_count": 100,
   "metadata": {},
   "outputs": [
    {
     "name": "stdout",
     "output_type": "stream",
     "text": [
      "              precision    recall  f1-score   support\n",
      "\n",
      "           0       0.92      0.95      0.93        58\n",
      "           1       0.94      0.91      0.92        53\n",
      "\n",
      "    accuracy                           0.93       111\n",
      "   macro avg       0.93      0.93      0.93       111\n",
      "weighted avg       0.93      0.93      0.93       111\n",
      "\n"
     ]
    }
   ],
   "source": [
    "from sklearn.metrics import classification_report\n",
    "print(classification_report(y_test,pred_lr))"
   ]
  },
  {
   "cell_type": "markdown",
   "metadata": {},
   "source": [
    "# Stochastic Gradient Descendent"
   ]
  },
  {
   "cell_type": "code",
   "execution_count": 101,
   "metadata": {},
   "outputs": [
    {
     "name": "stdout",
     "output_type": "stream",
     "text": [
      "Stochastic Gradient Accuracy: 0.88\n"
     ]
    },
    {
     "name": "stderr",
     "output_type": "stream",
     "text": [
      "C:\\Users\\user\\anaconda3\\envs\\PythonCPU\\lib\\site-packages\\sklearn\\linear_model\\_stochastic_gradient.py:573: ConvergenceWarning: Maximum number of iteration reached before convergence. Consider increasing max_iter to improve the fit.\n",
      "  ConvergenceWarning)\n"
     ]
    }
   ],
   "source": [
    "from sklearn.linear_model import SGDClassifier\n",
    "sgd = SGDClassifier(loss=\"hinge\", penalty=\"l2\", max_iter=5)\n",
    "sgd.fit(X_train, y_train)\n",
    "pred_sgd=sgd.predict(X_test)\n",
    "print(\"Stochastic Gradient Accuracy: %.2f\"%(metrics.accuracy_score(y_test, pred_sgd)))"
   ]
  },
  {
   "cell_type": "code",
   "execution_count": 102,
   "metadata": {},
   "outputs": [
    {
     "name": "stdout",
     "output_type": "stream",
     "text": [
      "[[54  4]\n",
      " [ 9 44]]\n"
     ]
    }
   ],
   "source": [
    "from sklearn import metrics\n",
    "print(metrics.confusion_matrix(y_test,pred_sgd))"
   ]
  },
  {
   "cell_type": "code",
   "execution_count": 103,
   "metadata": {},
   "outputs": [
    {
     "data": {
      "text/plain": [
       "<Figure size 720x720 with 0 Axes>"
      ]
     },
     "execution_count": 103,
     "metadata": {},
     "output_type": "execute_result"
    },
    {
     "data": {
      "image/png": "[encoded data removed]",
      "text/plain": [
       "<Figure size 432x288 with 2 Axes>"
      ]
     },
     "metadata": {
      "needs_background": "light"
     },
     "output_type": "display_data"
    },
    {
     "data": {
      "text/plain": [
       "<Figure size 720x720 with 0 Axes>"
      ]
     },
     "metadata": {},
     "output_type": "display_data"
    }
   ],
   "source": [
    "import seaborn as sn\n",
    "import matplotlib.pyplot as plt\n",
    "confusion=metrics.confusion_matrix(y_test,pred_sgd)\n",
    "plt.xlabel('true')\n",
    "plt.ylabel('Predicted')\n",
    "sn.heatmap(confusion,annot=True)\n",
    "plt.title('Without Normalized Confusion matrix  for our classifier')\n",
    "plt.figure(figsize=(10,10))"
   ]
  },
  {
   "cell_type": "code",
   "execution_count": 104,
   "metadata": {},
   "outputs": [
    {
     "data": {
      "image/png": "[encoded data removed]",
      "text/plain": [
       "<Figure size 432x288 with 2 Axes>"
      ]
     },
     "metadata": {
      "needs_background": "light"
     },
     "output_type": "display_data"
    }
   ],
   "source": [
    "import matplotlib.pyplot as plt\n",
    "from sklearn.metrics import plot_confusion_matrix\n",
    "from mlxtend.plotting import plot_decision_regions\n",
    "matrix =plot_confusion_matrix(sgd, X_test, y_test,\n",
    "                                 cmap=plt.cm.Blues,\n",
    "                                 normalize='true')\n",
    "plt.title('Normalized Confusion matrix  for our classifier')\n",
    "plt.show(matrix)\n",
    "plt.show()"
   ]
  },
  {
   "cell_type": "code",
   "execution_count": 105,
   "metadata": {},
   "outputs": [
    {
     "name": "stdout",
     "output_type": "stream",
     "text": [
      "              precision    recall  f1-score   support\n",
      "\n",
      "           0       0.86      0.93      0.89        58\n",
      "           1       0.92      0.83      0.87        53\n",
      "\n",
      "    accuracy                           0.88       111\n",
      "   macro avg       0.89      0.88      0.88       111\n",
      "weighted avg       0.89      0.88      0.88       111\n",
      "\n"
     ]
    }
   ],
   "source": [
    "from sklearn.metrics import classification_report\n",
    "print(classification_report(y_test,pred_sgd))"
   ]
  },
  {
   "cell_type": "markdown",
   "metadata": {},
   "source": [
    "# RNN LSTM"
   ]
  },
  {
   "cell_type": "code",
   "execution_count": 106,
   "metadata": {},
   "outputs": [],
   "source": [
    "# Split the sentences into words\n",
    "max_fatures = 2000\n",
    "tokenizer = Tokenizer(num_words=max_fatures, split=' ')\n",
    "tokenizer.fit_on_texts(data['Review'].values)\n",
    "X = tokenizer.texts_to_sequences(data['Review'].values)\n",
    "X = pad_sequences(X)\n",
    "y = pd.get_dummies(data['sentiment']).values"
   ]
  },
  {
   "cell_type": "code",
   "execution_count": 107,
   "metadata": {},
   "outputs": [
    {
     "name": "stdout",
     "output_type": "stream",
     "text": [
      "(442, 59) (442, 2)\n",
      "(111, 59) (111, 2)\n"
     ]
    }
   ],
   "source": [
    "X_train, X_test, y_train, y_test = train_test_split(X,y, test_size = 0.2, random_state = 1)\n",
    "print(X_train.shape,y_train.shape)\n",
    "print(X_test.shape,y_test.shape)\n"
   ]
  },
  {
   "cell_type": "code",
   "execution_count": 108,
   "metadata": {
    "scrolled": true
   },
   "outputs": [
    {
     "name": "stdout",
     "output_type": "stream",
     "text": [
      "Model: \"sequential_2\"\n",
      "_________________________________________________________________\n",
      "Layer (type)                 Output Shape              Param #   \n",
      "=================================================================\n",
      "embedding_2 (Embedding)      (None, 59, 256)           512000    \n",
      "_________________________________________________________________\n",
      "dropout_3 (Dropout)          (None, 59, 256)           0         \n",
      "_________________________________________________________________\n",
      "lstm_3 (LSTM)                (None, 59, 256)           525312    \n",
      "_________________________________________________________________\n",
      "dropout_4 (Dropout)          (None, 59, 256)           0         \n",
      "_________________________________________________________________\n",
      "lstm_4 (LSTM)                (None, 256)               525312    \n",
      "_________________________________________________________________\n",
      "dense_2 (Dense)              (None, 2)                 514       \n",
      "=================================================================\n",
      "Total params: 1,563,138\n",
      "Trainable params: 1,563,138\n",
      "Non-trainable params: 0\n",
      "_________________________________________________________________\n"
     ]
    }
   ],
   "source": [
    "# prepare the RNN model\n",
    "model = Sequential()\n",
    "model.add(Embedding(2000, 256, input_length=X_train.shape[1]))\n",
    "model.add(Dropout(0.3))\n",
    "model.add(LSTM(256, return_sequences=True, dropout=0.5, recurrent_dropout=0.5))\n",
    "model.add(Dropout(0.3))\n",
    "model.add(LSTM(256, dropout=0.5, recurrent_dropout=0.5))\n",
    "model.add(Dense(2, activation='softmax'))\n",
    "# compile the model\n",
    "model.compile(loss='categorical_crossentropy', optimizer='adam', metrics=['accuracy'])\n",
    "model.summary()"
   ]
  },
  {
   "cell_type": "code",
   "execution_count": 109,
   "metadata": {},
   "outputs": [
    {
     "name": "stdout",
     "output_type": "stream",
     "text": [
      "Epoch 1/7\n",
      " - 10s - loss: 0.6909 - accuracy: 0.5158\n",
      "Epoch 2/7\n",
      " - 8s - loss: 0.6861 - accuracy: 0.5385\n",
      "Epoch 3/7\n",
      " - 8s - loss: 0.6603 - accuracy: 0.6176\n",
      "Epoch 4/7\n",
      " - 8s - loss: 0.5767 - accuracy: 0.7262\n",
      "Epoch 5/7\n",
      " - 8s - loss: 0.4059 - accuracy: 0.8100\n",
      "Epoch 6/7\n",
      " - 8s - loss: 0.2481 - accuracy: 0.8982\n",
      "Epoch 7/7\n",
      " - 8s - loss: 0.1768 - accuracy: 0.9389\n"
     ]
    },
    {
     "data": {
      "text/plain": [
       "<keras.callbacks.callbacks.History at 0x24b22f877b8>"
      ]
     },
     "execution_count": 109,
     "metadata": {},
     "output_type": "execute_result"
    }
   ],
   "source": [
    "batch_size = 50\n",
    "epochs = 7\n",
    "\n",
    "model.fit(X_train, y_train, epochs=epochs, batch_size=batch_size, verbose=2)"
   ]
  },
  {
   "cell_type": "markdown",
   "metadata": {},
   "source": [
    "# Evaluate The Model Loss and Accuracy"
   ]
  },
  {
   "cell_type": "code",
   "execution_count": 110,
   "metadata": {},
   "outputs": [
    {
     "name": "stdout",
     "output_type": "stream",
     "text": [
      "111/111 [==============================] - 1s 10ms/step\n"
     ]
    }
   ],
   "source": [
    "predictions = model.predict(X_test)\n",
    "score = model.evaluate(X_test, y_test)"
   ]
  },
  {
   "cell_type": "code",
   "execution_count": 111,
   "metadata": {},
   "outputs": [
    {
     "data": {
      "text/plain": [
       "[0.4970694705172702, 0.8288288116455078]"
      ]
     },
     "execution_count": 111,
     "metadata": {},
     "output_type": "execute_result"
    }
   ],
   "source": [
    "score"
   ]
  },
  {
   "cell_type": "markdown",
   "metadata": {},
   "source": [
    "# predict"
   ]
  },
  {
   "cell_type": "code",
   "execution_count": 112,
   "metadata": {},
   "outputs": [
    {
     "name": "stdout",
     "output_type": "stream",
     "text": [
      "              precision    recall  f1-score   support\n",
      "\n",
      "           0       0.92      0.75      0.83        60\n",
      "           1       0.76      0.92      0.83        51\n",
      "\n",
      "   micro avg       0.83      0.83      0.83       111\n",
      "   macro avg       0.84      0.84      0.83       111\n",
      "weighted avg       0.84      0.83      0.83       111\n",
      " samples avg       0.83      0.83      0.83       111\n",
      "\n"
     ]
    }
   ],
   "source": [
    "predictions = model.predict(X_test)\n",
    "predictions =(predictions>0.5)\n",
    "list(predictions)\n",
    "from sklearn.metrics import classification_report\n",
    "print(classification_report(y_test,predictions))"
   ]
  },
  {
   "cell_type": "code",
   "execution_count": 113,
   "metadata": {},
   "outputs": [
    {
     "name": "stdout",
     "output_type": "stream",
     "text": [
      "[[[47  4]\n",
      "  [15 45]]\n",
      "\n",
      " [[45 15]\n",
      "  [ 4 47]]]\n"
     ]
    }
   ],
   "source": [
    "from sklearn.metrics import multilabel_confusion_matrix\n",
    "confusion =multilabel_confusion_matrix(y_test,predictions)\n",
    "print(confusion)"
   ]
  },
  {
   "cell_type": "code",
   "execution_count": 114,
   "metadata": {},
   "outputs": [
    {
     "name": "stdout",
     "output_type": "stream",
     "text": [
      "Positive predictions: 62\n",
      "Neutral predictions: 49\n",
      "Real positive: 51\n",
      "Real negative: 60\n"
     ]
    }
   ],
   "source": [
    "pos_count,  neg_count = 0, 0\n",
    "real_pos, real_neg = 0, 0\n",
    "for i, prediction in enumerate(predictions):\n",
    "    if np.argmax(prediction)==1:\n",
    "        pos_count += 1\n",
    "    \n",
    "    else:\n",
    "        neg_count += 1\n",
    "    \n",
    "    if np.argmax(y_test[i])==1:\n",
    "        real_pos += 1\n",
    "    \n",
    "    else:\n",
    "        real_neg +=1\n",
    "\n",
    "print('Positive predictions:', pos_count)\n",
    "print('Neutral predictions:', neg_count)\n",
    "print('Real positive:', real_pos)\n",
    "print('Real negative:', real_neg)"
   ]
  },
  {
   "cell_type": "code",
   "execution_count": null,
   "metadata": {},
   "outputs": [],
   "source": []
  }
 ],
 "metadata": {
  "kernelspec": {
   "display_name": "Python 3",
   "language": "python",
   "name": "python3"
  },
  "language_info": {
   "codemirror_mode": {
    "name": "ipython",
    "version": 3
   },
   "file_extension": ".py",
   "mimetype": "text/x-python",
   "name": "python",
   "nbconvert_exporter": "python",
   "pygments_lexer": "ipython3",
   "version": "3.7.1"
  }
 },
 "nbformat": 4,
 "nbformat_minor": 4
}
