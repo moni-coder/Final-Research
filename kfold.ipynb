{
 "cells": [
  {
   "cell_type": "code",
   "execution_count": 18,
   "metadata": {},
   "outputs": [
    {
     "data": {
      "text/html": [
       "<div>\n",
       "<style scoped>\n",
       "    .dataframe tbody tr th:only-of-type {\n",
       "        vertical-align: middle;\n",
       "    }\n",
       "\n",
       "    .dataframe tbody tr th {\n",
       "        vertical-align: top;\n",
       "    }\n",
       "\n",
       "    .dataframe thead th {\n",
       "        text-align: right;\n",
       "    }\n",
       "</style>\n",
       "<table border=\"1\" class=\"dataframe\">\n",
       "  <thead>\n",
       "    <tr style=\"text-align: right;\">\n",
       "      <th></th>\n",
       "      <th>sentiment</th>\n",
       "      <th>review</th>\n",
       "    </tr>\n",
       "  </thead>\n",
       "  <tbody>\n",
       "    <tr>\n",
       "      <th>0</th>\n",
       "      <td>1</td>\n",
       "      <td>I got the best service from them.</td>\n",
       "    </tr>\n",
       "    <tr>\n",
       "      <th>1</th>\n",
       "      <td>1</td>\n",
       "      <td>Very impressive service for the customers. I love how there comes a call for further confirmation of order and also for the address, which other online delivery platforms don't have and they always create misunderstandings and problems due to that. I also love the very easy, well-designed and conven...</td>\n",
       "    </tr>\n",
       "    <tr>\n",
       "      <th>2</th>\n",
       "      <td>1</td>\n",
       "      <td>Never had any issues with their delivery, always got my food on time with no problems. The new app UI looks good but is a little confusing at first. Only 4 stars because all my previous order history and saved addresses are gone due to the new update.</td>\n",
       "    </tr>\n",
       "    <tr>\n",
       "      <th>3</th>\n",
       "      <td>1</td>\n",
       "      <td>Great Service Pre-Order option is great. Loving it. :)</td>\n",
       "    </tr>\n",
       "    <tr>\n",
       "      <th>4</th>\n",
       "      <td>1</td>\n",
       "      <td>Delivery service at its best....</td>\n",
       "    </tr>\n",
       "    <tr>\n",
       "      <th>...</th>\n",
       "      <td>...</td>\n",
       "      <td>...</td>\n",
       "    </tr>\n",
       "    <tr>\n",
       "      <th>562</th>\n",
       "      <td>0</td>\n",
       "      <td>Food is very very bad. He gives wrong food. Very very bad.....</td>\n",
       "    </tr>\n",
       "    <tr>\n",
       "      <th>563</th>\n",
       "      <td>0</td>\n",
       "      <td>I ordered food almost 1 and 1/2 hour ago and still did not receive it yet. The rider just wasted my time waiting for the delivery. Worst rider ever</td>\n",
       "    </tr>\n",
       "    <tr>\n",
       "      <th>564</th>\n",
       "      <td>0</td>\n",
       "      <td>Order 140 tk and they deliver me 40 tk burger</td>\n",
       "    </tr>\n",
       "    <tr>\n",
       "      <th>565</th>\n",
       "      <td>0</td>\n",
       "      <td>Worst rider</td>\n",
       "    </tr>\n",
       "    <tr>\n",
       "      <th>566</th>\n",
       "      <td>0</td>\n",
       "      <td>I was waiting a long time for food.. It was come a long time..</td>\n",
       "    </tr>\n",
       "  </tbody>\n",
       "</table>\n",
       "<p>567 rows × 2 columns</p>\n",
       "</div>"
      ],
      "text/plain": [
       "     sentiment  \\\n",
       "0            1   \n",
       "1            1   \n",
       "2            1   \n",
       "3            1   \n",
       "4            1   \n",
       "..         ...   \n",
       "562          0   \n",
       "563          0   \n",
       "564          0   \n",
       "565          0   \n",
       "566          0   \n",
       "\n",
       "                                                                                                                                                                                                                                                                                                              review  \n",
       "0                                                                                                                                                                                                                                                                                  I got the best service from them.  \n",
       "1    Very impressive service for the customers. I love how there comes a call for further confirmation of order and also for the address, which other online delivery platforms don't have and they always create misunderstandings and problems due to that. I also love the very easy, well-designed and conven...  \n",
       "2                                                        Never had any issues with their delivery, always got my food on time with no problems. The new app UI looks good but is a little confusing at first. Only 4 stars because all my previous order history and saved addresses are gone due to the new update.  \n",
       "3                                                                                                                                                                                                                                                             Great Service Pre-Order option is great. Loving it. :)  \n",
       "4                                                                                                                                                                                                                                                                                   Delivery service at its best....  \n",
       "..                                                                                                                                                                                                                                                                                                               ...  \n",
       "562                                                                                                                                                                                                                                                   Food is very very bad. He gives wrong food. Very very bad.....  \n",
       "563                                                                                                                                                              I ordered food almost 1 and 1/2 hour ago and still did not receive it yet. The rider just wasted my time waiting for the delivery. Worst rider ever  \n",
       "564                                                                                                                                                                                                                                                                    Order 140 tk and they deliver me 40 tk burger  \n",
       "565                                                                                                                                                                                                                                                                                                      Worst rider  \n",
       "566                                                                                                                                                                                                                                                   I was waiting a long time for food.. It was come a long time..  \n",
       "\n",
       "[567 rows x 2 columns]"
      ]
     },
     "execution_count": 18,
     "metadata": {},
     "output_type": "execute_result"
    }
   ],
   "source": [
    "import pandas as pd \n",
    "pd.set_option('display.max_colwidth',500) \n",
    "column_names = ['sentiment', 'review']\n",
    "df = pd.read_csv('Book4.csv', names = column_names)\n",
    "df"
   ]
  },
  {
   "cell_type": "code",
   "execution_count": 19,
   "metadata": {},
   "outputs": [],
   "source": [
    "df.drop_duplicates(inplace = True)"
   ]
  },
  {
   "cell_type": "code",
   "execution_count": 20,
   "metadata": {},
   "outputs": [
    {
     "data": {
      "text/plain": [
       "0    291\n",
       "1    268\n",
       "Name: sentiment, dtype: int64"
      ]
     },
     "execution_count": 20,
     "metadata": {},
     "output_type": "execute_result"
    }
   ],
   "source": [
    "df['sentiment'].value_counts()"
   ]
  },
  {
   "cell_type": "code",
   "execution_count": 21,
   "metadata": {},
   "outputs": [
    {
     "data": {
      "text/plain": [
       "sentiment    0\n",
       "review       0\n",
       "dtype: int64"
      ]
     },
     "execution_count": 21,
     "metadata": {},
     "output_type": "execute_result"
    }
   ],
   "source": [
    "df.isnull().sum()"
   ]
  },
  {
   "cell_type": "code",
   "execution_count": 22,
   "metadata": {},
   "outputs": [],
   "source": [
    "y=df.sentiment.values"
   ]
  },
  {
   "cell_type": "code",
   "execution_count": 23,
   "metadata": {},
   "outputs": [],
   "source": [
    "from sklearn.feature_extraction.text import CountVectorizer\n",
    "ngram_vectorizer = CountVectorizer(ngram_range=(1,1))\n",
    "X = ngram_vectorizer.fit_transform(df.review)"
   ]
  },
  {
   "cell_type": "code",
   "execution_count": 24,
   "metadata": {},
   "outputs": [
    {
     "data": {
      "text/plain": [
       "array([[0, 0, 0, ..., 0, 0, 0],\n",
       "       [0, 0, 0, ..., 0, 0, 0],\n",
       "       [0, 0, 0, ..., 0, 0, 0],\n",
       "       ...,\n",
       "       [0, 0, 0, ..., 0, 0, 0],\n",
       "       [0, 0, 0, ..., 0, 0, 0],\n",
       "       [0, 0, 0, ..., 0, 0, 0]], dtype=int64)"
      ]
     },
     "execution_count": 24,
     "metadata": {},
     "output_type": "execute_result"
    }
   ],
   "source": [
    "X.toarray()"
   ]
  },
  {
   "cell_type": "code",
   "execution_count": 25,
   "metadata": {},
   "outputs": [],
   "source": [
    "from sklearn.model_selection import cross_val_score\n",
    "from sklearn.ensemble import RandomForestClassifier, AdaBoostClassifier, GradientBoostingClassifier,BaggingClassifier\n",
    "from sklearn.tree import DecisionTreeClassifier\n",
    "from sklearn.ensemble import ExtraTreesClassifier\n",
    "import xgboost as xgb"
   ]
  },
  {
   "cell_type": "code",
   "execution_count": 36,
   "metadata": {},
   "outputs": [
    {
     "data": {
      "text/plain": [
       "array([0.82978723, 0.89361702, 0.89361702, 0.91489362, 0.87234043,\n",
       "       0.89361702, 0.87234043, 0.97826087, 0.80434783, 0.89130435,\n",
       "       0.86956522, 0.80434783])"
      ]
     },
     "execution_count": 36,
     "metadata": {},
     "output_type": "execute_result"
    }
   ],
   "source": [
    "rfc = RandomForestClassifier(n_estimators=500, random_state=0,max_depth=20)\n",
    "rfc.fit(X, y)\n",
    "rfc_score = cross_val_score(rfc,X,y,cv=12)\n",
    "rfc_score\n"
   ]
  },
  {
   "cell_type": "code",
   "execution_count": 37,
   "metadata": {},
   "outputs": [
    {
     "data": {
      "text/plain": [
       "array([0.78723404, 0.87234043, 0.91489362, 0.89361702, 0.80851064,\n",
       "       0.93617021, 0.85106383, 0.82608696, 0.73913043, 0.7173913 ,\n",
       "       0.7173913 , 0.7826087 ])"
      ]
     },
     "execution_count": 37,
     "metadata": {},
     "output_type": "execute_result"
    }
   ],
   "source": [
    "abc = AdaBoostClassifier(n_estimators=500, random_state= 0, learning_rate=0.01)\n",
    "abc.fit(X, y)\n",
    "abc_score = cross_val_score(abc,X,y,cv=12)\n",
    "abc_score"
   ]
  },
  {
   "cell_type": "code",
   "execution_count": 28,
   "metadata": {},
   "outputs": [
    {
     "data": {
      "text/plain": [
       "array([0.78723404, 0.89361702, 0.91489362, 0.91489362, 0.82978723,\n",
       "       0.93617021, 0.85106383, 0.84782609, 0.73913043, 0.7826087 ,\n",
       "       0.80434783, 0.76086957])"
      ]
     },
     "execution_count": 28,
     "metadata": {},
     "output_type": "execute_result"
    }
   ],
   "source": [
    "gbc = GradientBoostingClassifier(n_estimators=500, random_state=0,  learning_rate=0.01)\n",
    "gbc.fit(X, y)\n",
    "gbc_score = cross_val_score(gbc,X,y,cv=12)\n",
    "gbc_score"
   ]
  },
  {
   "cell_type": "code",
   "execution_count": 29,
   "metadata": {},
   "outputs": [
    {
     "data": {
      "text/plain": [
       "array([0.78723404, 0.89361702, 0.95744681, 0.93617021, 0.82978723,\n",
       "       0.91489362, 0.82978723, 0.86956522, 0.76086957, 0.80434783,\n",
       "       0.80434783, 0.7826087 ])"
      ]
     },
     "execution_count": 29,
     "metadata": {},
     "output_type": "execute_result"
    }
   ],
   "source": [
    "bg = BaggingClassifier(DecisionTreeClassifier(),max_samples=0.5, max_features=1.0, n_estimators=500)\n",
    "bg.fit(X, y)\n",
    "bg_score = cross_val_score(bg,X,y,cv=12)\n",
    "bg_score"
   ]
  },
  {
   "cell_type": "code",
   "execution_count": 30,
   "metadata": {},
   "outputs": [
    {
     "data": {
      "text/plain": [
       "array([0.78723404, 0.91489362, 0.91489362, 0.93617021, 0.78723404,\n",
       "       0.85106383, 0.80851064, 0.84782609, 0.73913043, 0.82608696,\n",
       "       0.84782609, 0.73913043])"
      ]
     },
     "execution_count": 30,
     "metadata": {},
     "output_type": "execute_result"
    }
   ],
   "source": [
    "dt = DecisionTreeClassifier(max_depth=20)\n",
    "dt.fit(X, y)\n",
    "dt_score = cross_val_score(dt,X,y,cv=12)\n",
    "dt_score"
   ]
  },
  {
   "cell_type": "code",
   "execution_count": 31,
   "metadata": {},
   "outputs": [
    {
     "data": {
      "text/plain": [
       "array([0.87234043, 0.89361702, 0.93617021, 0.87234043, 0.89361702,\n",
       "       0.91489362, 0.93617021, 0.93478261, 0.80434783, 0.93478261,\n",
       "       0.89130435, 0.7826087 ])"
      ]
     },
     "execution_count": 31,
     "metadata": {},
     "output_type": "execute_result"
    }
   ],
   "source": [
    "extra = ExtraTreesClassifier(n_estimators=500, max_depth=20, random_state=0)\n",
    "extra.fit(X, y)\n",
    "extra_score = cross_val_score(extra,X,y,cv=12)\n",
    "extra_score"
   ]
  },
  {
   "cell_type": "code",
   "execution_count": 32,
   "metadata": {},
   "outputs": [
    {
     "data": {
      "text/plain": [
       "array([0.82978723, 0.93617021, 0.93617021, 0.91489362, 0.91489362,\n",
       "       0.91489362, 0.87234043, 0.91304348, 0.89130435, 0.91304348,\n",
       "       0.89130435, 0.7826087 ])"
      ]
     },
     "execution_count": 32,
     "metadata": {},
     "output_type": "execute_result"
    }
   ],
   "source": [
    "from sklearn.naive_bayes import MultinomialNB\n",
    "mnb = MultinomialNB()\n",
    "mnb.fit(X,y)\n",
    "mnb_score = cross_val_score(mnb,X,y,cv=12)\n",
    "mnb_score"
   ]
  },
  {
   "cell_type": "code",
   "execution_count": 33,
   "metadata": {},
   "outputs": [
    {
     "data": {
      "text/plain": [
       "array([0.87234043, 0.91489362, 0.93617021, 0.93617021, 0.89361702,\n",
       "       0.89361702, 0.82978723, 0.95652174, 0.7826087 , 0.91304348,\n",
       "       0.91304348, 0.82608696])"
      ]
     },
     "execution_count": 33,
     "metadata": {},
     "output_type": "execute_result"
    }
   ],
   "source": [
    "from sklearn.linear_model import LogisticRegression\n",
    "lr = LogisticRegression(C=0.8)\n",
    "lr.fit(X, y)\n",
    "lr_score = cross_val_score(lr,X,y,cv=12)\n",
    "lr_score"
   ]
  },
  {
   "cell_type": "code",
   "execution_count": 34,
   "metadata": {},
   "outputs": [
    {
     "name": "stderr",
     "output_type": "stream",
     "text": [
      "C:\\Users\\user\\anaconda3\\envs\\PythonCPU\\lib\\site-packages\\sklearn\\linear_model\\_stochastic_gradient.py:573: ConvergenceWarning: Maximum number of iteration reached before convergence. Consider increasing max_iter to improve the fit.\n",
      "  ConvergenceWarning)\n",
      "C:\\Users\\user\\anaconda3\\envs\\PythonCPU\\lib\\site-packages\\sklearn\\linear_model\\_stochastic_gradient.py:573: ConvergenceWarning: Maximum number of iteration reached before convergence. Consider increasing max_iter to improve the fit.\n",
      "  ConvergenceWarning)\n"
     ]
    },
    {
     "data": {
      "text/plain": [
       "array([0.85714286, 0.875     , 0.91071429, 0.98214286, 0.83928571,\n",
       "       0.82142857, 0.75      , 0.875     , 0.82142857, 0.81818182])"
      ]
     },
     "execution_count": 34,
     "metadata": {},
     "output_type": "execute_result"
    }
   ],
   "source": [
    "from sklearn.linear_model import SGDClassifier\n",
    "sgd = SGDClassifier(loss=\"hinge\", penalty=\"l2\", max_iter=5)\n",
    "sgd.fit(X, y)\n",
    "sgd_score = cross_val_score(sgd,X,y,cv=10)\n",
    "sgd_score"
   ]
  },
  {
   "cell_type": "code",
   "execution_count": null,
   "metadata": {},
   "outputs": [],
   "source": []
  },
  {
   "cell_type": "code",
   "execution_count": null,
   "metadata": {},
   "outputs": [],
   "source": []
  }
 ],
 "metadata": {
  "kernelspec": {
   "display_name": "Python 3",
   "language": "python",
   "name": "python3"
  },
  "language_info": {
   "codemirror_mode": {
    "name": "ipython",
    "version": 3
   },
   "file_extension": ".py",
   "mimetype": "text/x-python",
   "name": "python",
   "nbconvert_exporter": "python",
   "pygments_lexer": "ipython3",
   "version": "3.7.1"
  }
 },
 "nbformat": 4,
 "nbformat_minor": 4
}
